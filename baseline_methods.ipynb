{
  "nbformat": 4,
  "nbformat_minor": 0,
  "metadata": {
    "colab": {
      "name": "baseline_methods.ipynb",
      "provenance": [],
      "collapsed_sections": []
    },
    "kernelspec": {
      "name": "python3",
      "display_name": "Python 3"
    },
    "language_info": {
      "name": "python"
    },
    "accelerator": "TPU"
  },
  "cells": [
    {
      "cell_type": "code",
      "metadata": {
        "id": "N7fApNF7xjy3"
      },
      "source": [
        "%%capture\n",
        "!pip install scprep\n",
        "!pip install anndata\n",
        "!pip install scanpy"
      ],
      "execution_count": 14,
      "outputs": []
    },
    {
      "cell_type": "code",
      "metadata": {
        "id": "-L0n8_rB7gPQ"
      },
      "source": [
        "import numpy as np\n",
        "import pandas as pd\n",
        "import anndata\n",
        "import scprep\n",
        "import scanpy as sc\n",
        "import sklearn\n",
        "from sklearn.model_selection import train_test_split\n",
        "import tempfile\n",
        "import os\n",
        "import inspect\n",
        "import sys\n",
        "import scipy\n",
        "from scipy import sparse\n",
        "\n",
        "import torch\n",
        "import torch.nn as nn\n",
        "from torch import optim\n",
        "from torch.autograd import Variable\n",
        "from torch.utils.data import Dataset, DataLoader\n",
        "from torch.utils.data import random_split\n",
        "\n",
        "import matplotlib.pyplot as plt"
      ],
      "execution_count": 15,
      "outputs": []
    },
    {
      "cell_type": "markdown",
      "metadata": {
        "id": "xIaWncv9FRlG"
      },
      "source": [
        "# **try out with scicar cell lines dataset**"
      ]
    },
    {
      "cell_type": "markdown",
      "metadata": {
        "id": "1kdBrFDRFj-x"
      },
      "source": [
        "**1. URLs for raw data**"
      ]
    },
    {
      "cell_type": "code",
      "metadata": {
        "id": "Qk7VlGW_FK6p"
      },
      "source": [
        "rna_url = (\"https://www.ncbi.nlm.nih.gov/geo/download/?acc=GSM3271040\"\n",
        "    \"&format=file&file=GSM3271040%5FRNA%5FsciCAR%5FA549%5Fgene%5Fcount.txt.gz\")\n",
        "rna_cells_url = (\n",
        "    \"https://www.ncbi.nlm.nih.gov/geo/download/?acc=GSM3271040\"\n",
        "    \"&format=file&file=GSM3271040%5FRNA%5FsciCAR%5FA549%5Fcell.txt.gz\"\n",
        ")\n",
        "rna_genes_url = (\n",
        "    \"https://www.ncbi.nlm.nih.gov/geo/download/?acc=GSM3271040\"\n",
        "    \"&format=file&file=GSM3271040%5FRNA%5FsciCAR%5FA549%5Fgene.txt.gz\"\n",
        ")\n",
        "atac_url = (\n",
        "    \"https://www.ncbi.nlm.nih.gov/geo/download/?acc=GSM3271041\"\n",
        "    \"&format=file&file=GSM3271041%5FATAC%5FsciCAR%5FA549%5Fpeak%5Fcount.txt.gz\"\n",
        ")\n",
        "atac_cells_url = (\n",
        "    \"https://www.ncbi.nlm.nih.gov/geo/download/?acc=GSM3271041\"\n",
        "    \"&format=file&file=GSM3271041%5FATAC%5FsciCAR%5FA549%5Fcell.txt.gz\"\n",
        ")\n",
        "atac_genes_url = (\n",
        "    \"https://www.ncbi.nlm.nih.gov/geo/download/?acc=GSM3271041\"\n",
        "    \"&format=file&file=GSM3271041%5FATAC%5FsciCAR%5FA549%5Fpeak.txt.gz\"\n",
        ")"
      ],
      "execution_count": 16,
      "outputs": []
    },
    {
      "cell_type": "code",
      "metadata": {
        "id": "3eAoQ8zpG9-V"
      },
      "source": [
        "rna_genes = pd.read_csv(rna_genes_url, low_memory=False, index_col=0)\n",
        "atac_genes =  pd.read_csv(atac_genes_url, low_memory=False, index_col=1)\n",
        "rna_cells = pd.read_csv(rna_cells_url, low_memory=False, index_col=0)\n",
        "atac_cells = pd.read_csv(atac_cells_url, low_memory=False, index_col=0)"
      ],
      "execution_count": 17,
      "outputs": []
    },
    {
      "cell_type": "code",
      "metadata": {
        "id": "-0njer-qFpMl"
      },
      "source": [
        "with tempfile.TemporaryDirectory() as tempdir:\n",
        "  rna_file = os.path.join(tempdir, \"rna.mtx.gz\")\n",
        "  scprep.io.download.download_url(rna_url, rna_file)\n",
        "  rna_data = scprep.io.load_mtx(rna_file, cell_axis=\"col\").tocsr()\n",
        "  atac_file = os.path.join(tempdir, \"atac.mtx.gz\")\n",
        "  scprep.io.download.download_url(atac_url, atac_file)\n",
        "  atac_data = scprep.io.load_mtx(atac_file, cell_axis=\"col\").tocsr()"
      ],
      "execution_count": 18,
      "outputs": []
    },
    {
      "cell_type": "markdown",
      "metadata": {
        "id": "XcF3DwMRMGPl"
      },
      "source": [
        " **2. select the joint sub-datasets and store them into csv files**"
      ]
    },
    {
      "cell_type": "code",
      "metadata": {
        "id": "HLB4X7nxMFiv"
      },
      "source": [
        "def create_joint_dataset(X, Y, X_index=None, X_columns=None, Y_index=None, Y_columns=None):\n",
        "    if X_index is None:\n",
        "        X_index = X.index\n",
        "    if X_columns is None:\n",
        "        X_columns = X.columns\n",
        "    if Y_index is None:\n",
        "        Y_index = Y.index\n",
        "    if Y_columns is None:\n",
        "        Y_columns = Y.columns\n",
        "    joint_index = np.sort(np.intersect1d(X_index, Y_index))\n",
        "    try:\n",
        "        X = X.loc[joint_index]\n",
        "        Y = Y.loc[joint_index]\n",
        "    except AttributeError:\n",
        "        x_keep_idx = np.isin(X_index, joint_index)\n",
        "        y_keep_idx = np.isin(Y_index, joint_index)\n",
        "        X = X[x_keep_idx]\n",
        "        Y = Y[y_keep_idx]\n",
        "        X_index_sub = scprep.utils.toarray(X_index[x_keep_idx])\n",
        "        Y_index_sub = scprep.utils.toarray(Y_index[y_keep_idx])\n",
        "        X = X[np.argsort(X_index_sub)]\n",
        "        Y = Y[np.argsort(Y_index_sub)]\n",
        "        # check order is correct\n",
        "        assert (X_index_sub[np.argsort(X_index_sub)] == joint_index).all()\n",
        "        assert (Y_index_sub[np.argsort(Y_index_sub)] == joint_index).all()\n",
        "    adata = anndata.AnnData(\n",
        "        scprep.utils.to_array_or_spmatrix(X).tocsr(),\n",
        "        obs = pd.DataFrame(index = joint_index),\n",
        "        var = pd.DataFrame(index = X_columns),\n",
        "    )\n",
        "    adata.obsm[\"mode2\"] = scprep.utils.to_array_or_spmatrix(Y).tocsr()\n",
        "    adata.uns[\"mode2_obs\"] = joint_index\n",
        "    adata.uns[\"mode2_var\"] = scprep.utils.toarray(Y_columns)\n",
        "    return adata, joint_index"
      ],
      "execution_count": 19,
      "outputs": []
    },
    {
      "cell_type": "code",
      "metadata": {
        "id": "Ms5wS5iNUob8"
      },
      "source": [
        "def subset_mode2_genes(adata, keep_genes):\n",
        "  adata.obsm[\"mode2\"] = adata.obsm[\"mode2\"][:, keep_genes]\n",
        "  adata.uns[\"mode2_var\"] = adata.uns[\"mode2_var\"][keep_genes]\n",
        "  if \"mode2_varnames\" in adata.uns:\n",
        "    for varname in adata.uns[\"mode2_varnames\"]:\n",
        "      adata.uns[varname] = adata.uns[varname][keep_genes]\n",
        "  return adata"
      ],
      "execution_count": 20,
      "outputs": []
    },
    {
      "cell_type": "code",
      "metadata": {
        "id": "2caFwIv5P5py"
      },
      "source": [
        "def filter_joint_data_empty_cells(adata):\n",
        "    assert np.all(adata.uns[\"mode2_obs\"] == adata.obs.index)\n",
        "    #filter out cells\n",
        "    n_cells_mode1 = scprep.utils.toarray(adata.X.sum(axis = 1)).flatten()\n",
        "    n_cells_mode2 = scprep.utils.toarray(adata.obsm[\"mode2\"].sum(axis = 1)).flatten()\n",
        "    keep_cells = np.minimum(n_cells_mode1, n_cells_mode2) > 1\n",
        "    adata.uns[\"mode2_obs\"] = adata.uns[\"mode2_obs\"][keep_cells]\n",
        "    adata = adata[keep_cells, :].copy()\n",
        "    #filter out genes\n",
        "    sc.pp.filter_genes(adata, min_counts=1)\n",
        "    n_genes_mode2 = scprep.utils.toarray(adata.obsm[\"mode2\"].sum(axis=0)).flatten()\n",
        "    keep_genes_mode2 = n_genes_mode2 > 0\n",
        "    adata = subset_mode2_genes(adata, keep_genes_mode2)\n",
        "    return adata, keep_cells"
      ],
      "execution_count": 21,
      "outputs": []
    },
    {
      "cell_type": "code",
      "metadata": {
        "id": "5Jg8s2v1T6Z6"
      },
      "source": [
        "def merge_data(rna_data, atac_data, rna_cells, atac_cells, rna_genes, atac_genes):\n",
        "  scicar_data, joint_index = create_joint_dataset(\n",
        "      rna_data, atac_data, \n",
        "      X_index=rna_cells.index, \n",
        "      X_columns=rna_genes.index, \n",
        "      Y_index=atac_cells.index,\n",
        "      Y_columns=atac_genes.index)\n",
        "\n",
        "  scicar_data.obs = rna_cells.loc[scicar_data.obs.index]\n",
        "  scicar_data.var = rna_genes\n",
        "  for key in atac_cells.columns:\n",
        "      scicar_data.obs[key] = atac_cells[key]\n",
        "  scicar_data.uns[\"mode2_varnames\"] = []\n",
        "  for key in atac_genes.columns:\n",
        "      varname = \"mode2_var_{}\".format(key)\n",
        "      scicar_data.uns[varname] = atac_genes[key].values\n",
        "      scicar_data.uns[\"mode2_varnames\"].append(varname)\n",
        "  scicar_data, keep_cells_idx = filter_joint_data_empty_cells(scicar_data)\n",
        "  return scicar_data, joint_index, keep_cells_idx"
      ],
      "execution_count": 22,
      "outputs": []
    },
    {
      "cell_type": "code",
      "metadata": {
        "id": "MaUJXOnZUMKJ"
      },
      "source": [
        "def subset_joint_data(adata, n_cells=600, n_genes=1500):\n",
        "  if adata.shape[0] > n_cells:\n",
        "    keep_cells = np.random.choice(adata.shape[0], n_cells, replace=False)\n",
        "    adata = adata[keep_cells].copy()\n",
        "    adata.uns[\"mode2_obs\"] = adata.uns[\"mode2_obs\"][keep_cells]\n",
        "    adata, _ = filter_joint_data_empty_cells(adata)\n",
        "    \n",
        "  if adata.shape[1] > n_genes:\n",
        "    keep_mode1_genes = np.random.choice(adata.shape[1], n_genes, replace=False)\n",
        "    adata = adata[:, keep_mode1_genes].copy()\n",
        "  \n",
        "  if adata.obsm[\"mode2\"].shape[1] > n_genes:\n",
        "    keep_genes_mode2 = np.random.choice(\n",
        "        adata.obsm[\"mode2\"].shape[1], n_genes, replace=False\n",
        "    )\n",
        "    adata = subset_mode2_genes(adata, keep_genes_mode2)\n",
        "  adata, _ = filter_joint_data_empty_cells(adata)\n",
        "  return adata"
      ],
      "execution_count": 23,
      "outputs": []
    },
    {
      "cell_type": "code",
      "metadata": {
        "id": "vmgqCzKUTtpo"
      },
      "source": [
        "scicar_data, joint_index, keep_cells_idx = merge_data(rna_data, atac_data, rna_cells, atac_cells, rna_genes, atac_genes)\n",
        "#rna_df, atac_df = ann2df(scicar_data)"
      ],
      "execution_count": 24,
      "outputs": []
    },
    {
      "cell_type": "code",
      "metadata": {
        "colab": {
          "base_uri": "https://localhost:8080/"
        },
        "id": "UFo3UdoSYwb6",
        "outputId": "533c6482-2488-44a4-bd0a-39e12e752987"
      },
      "source": [
        "print(scicar_data)"
      ],
      "execution_count": null,
      "outputs": [
        {
          "output_type": "stream",
          "text": [
            "AnnData object with n_obs × n_vars = 4739 × 60550\n",
            "    obs: 'cell_name', 'experiment', 'treatment_time', 'source', 'group'\n",
            "    var: 'gene_type', 'gene_short_name', 'n_counts'\n",
            "    uns: 'mode2_obs', 'mode2_var', 'mode2_varnames', 'mode2_var_id', 'mode2_var_chr', 'mode2_var_start', 'mode2_var_end'\n",
            "    obsm: 'mode2'\n"
          ],
          "name": "stdout"
        }
      ]
    },
    {
      "cell_type": "code",
      "metadata": {
        "id": "iQEUCjmiYKgZ"
      },
      "source": [
        "test_scicar_data = subset_joint_data(scicar_data)"
      ],
      "execution_count": null,
      "outputs": []
    },
    {
      "cell_type": "markdown",
      "metadata": {
        "id": "ZHbPxcQb0oBq"
      },
      "source": [
        "# **logcpm, sqrtcpm**"
      ]
    },
    {
      "cell_type": "code",
      "metadata": {
        "id": "ojz2mwonPA97"
      },
      "source": [
        "import functools\n",
        "def normalizer(func, *args, **kwargs):\n",
        "  @functools.wraps(func)\n",
        "  def normalize(adata, *args, obsm=None, obs=None, var=None, **kwargs):\n",
        "    if obsm is not None:\n",
        "      cache_name = \"{}_{}\".format(obsm, func.__name__)\n",
        "      if cache_name in adata.obsm:\n",
        "        adata.obsm[obsm] = adata.obsm[cache_name]\n",
        "      else:\n",
        "        name_obs = obs\n",
        "        name_var = var\n",
        "        obs = adata.uns[obs] if obs else adata.obs\n",
        "        var = adata.uns[var] if var else adata.var\n",
        "        adata_temp = anndata.AnnData(adata.obsm[obsm], obs = obs, var = var)\n",
        "        func(adata_temp, *args, **kwargs)\n",
        "        adata.obsm[obsm] = adata.obsm[cache_name] = adata_temp.X\n",
        "        adata.uns[name_var] = adata_temp.var\n",
        "        adata.uns[name_obs] = adata_temp.obs\n",
        "    else:\n",
        "      if func.__name__ in adata.layers:\n",
        "        adata.X = adata.layers[func.__name__]\n",
        "      else:\n",
        "        func(adata, *args, **kwargs)\n",
        "        adata.layers[func.__name__] = adata.X\n",
        "  return normalize"
      ],
      "execution_count": 25,
      "outputs": []
    },
    {
      "cell_type": "code",
      "metadata": {
        "id": "eRJKF175vtzk"
      },
      "source": [
        "def _cpm(adata):\n",
        "  adata.layers[\"count\"] = adata.X.copy()\n",
        "  sc.pp.normalize_total(adata, target_sum = 1e6, key_added = \"size_factors\")"
      ],
      "execution_count": 26,
      "outputs": []
    },
    {
      "cell_type": "code",
      "metadata": {
        "id": "xxefz8Nt21Pe"
      },
      "source": [
        "@normalizer\n",
        "def log_cpm(adata):\n",
        "  _cpm(adata)\n",
        "  sc.pp.log1p(adata)\n",
        "  \n",
        "@normalizer\n",
        "def sqrt_cpm(adata):\n",
        "  _cpm(adata)\n",
        "  adata.X = scprep.transform.sqrt(adata.X)"
      ],
      "execution_count": 27,
      "outputs": []
    },
    {
      "cell_type": "code",
      "metadata": {
        "id": "I48dBQI0bUMe"
      },
      "source": [
        "@normalizer\n",
        "def hvg_by_sc(adata, proportion = .1):\n",
        "  n_genes = len(adata.var)\n",
        "  n_genes_to_keep = int(n_genes*proportion)\n",
        "  sc.pp.highly_variable_genes(adata, n_top_genes = n_genes_to_keep, subset=True)"
      ],
      "execution_count": 28,
      "outputs": []
    },
    {
      "cell_type": "markdown",
      "metadata": {
        "id": "9UhlUBDYwyeW"
      },
      "source": [
        "# **convert R function and run logscran**"
      ]
    },
    {
      "cell_type": "code",
      "metadata": {
        "id": "qnsV-T_Swx3l"
      },
      "source": [
        "def r_function(filename):\n",
        "  curr_frame = inspect.currentframe()\n",
        "  prev_frame = inspect.getframeinfo(curr_frame.f_back)\n",
        "  filepath = os.path.join(os.path.dirname(prev_frame.filename), filename)\n",
        "  print(filepath)\n",
        "  with open(filepath, \"r\") as handle:\n",
        "    r_code = handle.read()\n",
        "  out_func = scprep.run.RFunction(setup=\"\", args=\"sce\", body=r_code)\n",
        "  out_func.__r_file__ = filepath\n",
        "  return out_func"
      ],
      "execution_count": 29,
      "outputs": []
    },
    {
      "cell_type": "code",
      "metadata": {
        "id": "l3JqsvfGzXmB"
      },
      "source": [
        "#scran normalization funciton\n",
        "_scran = scprep.run.RFunction(\n",
        "    setup=\"library('scran')\",\n",
        "    args=\"sce, min.mean=0.1\",\n",
        "    body=\"\"\"\n",
        "    sce <- computeSumFactors(sce, min.mean=min.mean, assay.type=\"X\")\n",
        "    sizeFactors(sce)\n",
        "    \"\"\",\n",
        ")"
      ],
      "execution_count": 30,
      "outputs": []
    },
    {
      "cell_type": "code",
      "metadata": {
        "id": "4N2IW_d42cam"
      },
      "source": [
        "#log scran pooling\n",
        "#dividing all counts for each cell by a cell-specific scaling factor(size factor)\n",
        "#assumption:any cell-specific bias (e.g.,  amplification efficiency) affects all genes equally \n",
        "#via scaling of the expected mean count for that cell\n",
        "@normalizer\n",
        "def log_scran_pooling(adata):\n",
        "  scprep.run.install_bioconductor(\"scran\")\n",
        "  adata.obs[\"size_factor\"] = _scran(adata)\n",
        "\n",
        "  #why here is multiplication instead of division\n",
        "  adata.X = scprep.utils.matrix_vector_elementwise_multiply(\n",
        "      adata.X, adata.obs[\"size_factor\"], axis = 0\n",
        "  )\n",
        "  sc.pp.log1p(adata)"
      ],
      "execution_count": 31,
      "outputs": []
    },
    {
      "cell_type": "markdown",
      "metadata": {
        "id": "lL1JTWqPvFbG"
      },
      "source": [
        "# **Metrics**"
      ]
    },
    {
      "cell_type": "code",
      "metadata": {
        "id": "Il_OR3M4xNgE"
      },
      "source": [
        "#KNN-AUC\n",
        "def knn_auc(adata, proportion_neighbors=0.1, n_svd=100):\n",
        "  n_svd = min([n_svd, min(adata.X.shape)-1])\n",
        "  n_neighbors = int(np.ceil(proportion_neighbors*adata.X.shape[0]))\n",
        "  X_pca = sklearn.decomposition.TruncatedSVD(n_svd).fit_transform(adata.X)\n",
        "  _, indices_true = (\n",
        "      sklearn.neighbors.NearestNeighbors(n_neighbors = n_neighbors).fit(X_pca).kneighbors(X_pca)\n",
        "  )\n",
        "  _, indices_pred = (\n",
        "      sklearn.neighbors.NearestNeighbors(n_neighbors=n_neighbors).fit(adata.obsm[\"aligned\"]).kneighbors(adata.obsm[\"mode2_aligned\"])\n",
        "  )\n",
        "  neighbors_match = np.zeros(n_neighbors, dtype=int)\n",
        "  for i in range(adata.shape[0]):\n",
        "    _, pred_matches, true_matches = np.intersect1d(\n",
        "        indices_pred[i], indices_true[i], return_indices=True\n",
        "    )\n",
        "    neighbors_match_idx = np.maximum(pred_matches, true_matches)\n",
        "    neighbors_match += np.sum(np.arange(n_neighbors) >= neighbors_match_idx[:, None], axis = 0,)\n",
        "    neighbors_match_curve = neighbors_match/(np.arange(1, n_neighbors + 1) * adata.shape[0])\n",
        "    area_under_curve = np.mean(neighbors_match_curve)\n",
        "    return area_under_curve"
      ],
      "execution_count": 32,
      "outputs": []
    },
    {
      "cell_type": "code",
      "metadata": {
        "id": "d-imsgQExRa0"
      },
      "source": [
        "#MSE\n",
        "def _square(X):\n",
        "  if sparse.issparse(X):\n",
        "     X.data = X.data ** 2\n",
        "     return X\n",
        "  else:\n",
        "     return scprep.utils.toarray(X) ** 2\n",
        "\n",
        "def mse(adata):\n",
        "  X=scprep.utils.toarray(adata.obsm[\"aligned\"])\n",
        "  Y=scprep.utils.toarray(adata.obsm[\"mode2_aligned\"])\n",
        "\n",
        "  X_shuffled = X[np.random.permutation(np.arange(X.shape[0])), :]\n",
        "  error_random = np.mean(np.sum(_square(X_shuffled - Y)))\n",
        "  error_abs = np.mean(np.sum(_square(X - Y)))\n",
        "  return error_abs/error_random"
      ],
      "execution_count": 33,
      "outputs": []
    },
    {
      "cell_type": "markdown",
      "metadata": {
        "id": "vf_DRpw9mxcV"
      },
      "source": [
        "# **Procrustes**"
      ]
    },
    {
      "cell_type": "code",
      "metadata": {
        "id": "TLi3TZRJmw7A"
      },
      "source": [
        "def procrustes(adata, n_svd=100):\n",
        "  n_svd = min([n_svd, min(adata.X.shape)-1, min(adata.obsm[\"mode2\"].shape)-1])\n",
        "  log_cpm(adata)\n",
        "  log_cpm(adata, obsm=\"mode2\", obs=\"mode2_obs\", var=\"mode2_var\")\n",
        "  X_pca = sklearn.decomposition.TruncatedSVD(n_svd).fit_transform(adata.X)\n",
        "  Y_pca = sklearn.decomposition.TruncatedSVD(n_svd).fit_transform(adata.obsm[\"mode2\"])\n",
        "  X_proc, Y_proc, _ = scipy.spatial.procrustes(X_pca, Y_pca)\n",
        "  adata.obsm[\"aligned\"] = X_proc\n",
        "  adata.obsm[\"mode2_aligned\"] = Y_proc\n",
        "  return adata"
      ],
      "execution_count": 34,
      "outputs": []
    },
    {
      "cell_type": "markdown",
      "metadata": {
        "id": "kxPGCs7scRQo"
      },
      "source": [
        "# **Harmonic Alignment**"
      ]
    },
    {
      "cell_type": "code",
      "metadata": {
        "colab": {
          "base_uri": "https://localhost:8080/"
        },
        "id": "hgP9wXkBi-Cz",
        "outputId": "e11cea96-9592-4928-cdd3-699b8c2cd9d3"
      },
      "source": [
        "!pip install --user git+https://github.com/KrishnaswamyLab/harmonic-alignment#subdirectory=python"
      ],
      "execution_count": 25,
      "outputs": [
        {
          "output_type": "stream",
          "text": [
            "Collecting git+https://github.com/KrishnaswamyLab/harmonic-alignment#subdirectory=python\n",
            "  Cloning https://github.com/KrishnaswamyLab/harmonic-alignment to /tmp/pip-req-build-716rtq_e\n",
            "  Running command git clone -q https://github.com/KrishnaswamyLab/harmonic-alignment /tmp/pip-req-build-716rtq_e\n",
            "Requirement already satisfied: numpy>=1.14.0 in /usr/local/lib/python3.7/dist-packages (from harmonicalignment==0.0) (1.19.5)\n",
            "Requirement already satisfied: scipy>=1.1.0 in /usr/local/lib/python3.7/dist-packages (from harmonicalignment==0.0) (1.4.1)\n",
            "Collecting pygsp>=>=0.5.1\n",
            "\u001b[?25l  Downloading https://files.pythonhosted.org/packages/d4/89/2f4aa73cccf12bec5179ac5d52a68b508120c838b7e5d456f5ea0c8beade/PyGSP-0.5.1-py2.py3-none-any.whl (1.8MB)\n",
            "\u001b[K     |████████████████████████████████| 1.8MB 5.0MB/s \n",
            "\u001b[?25hRequirement already satisfied: scikit-learn>=0.20.0 in /usr/local/lib/python3.7/dist-packages (from harmonicalignment==0.0) (0.22.2.post1)\n",
            "Requirement already satisfied: future in /usr/local/lib/python3.7/dist-packages (from harmonicalignment==0.0) (0.16.0)\n",
            "Collecting tasklogger>=0.4.0\n",
            "  Downloading https://files.pythonhosted.org/packages/2a/ba/d9b56be2de592e106013930718ba3d3bb0154ae55a3a4ab59197324dd60e/tasklogger-1.1.0-py3-none-any.whl\n",
            "Collecting graphtools>=0.2.1\n",
            "\u001b[?25l  Downloading https://files.pythonhosted.org/packages/dc/99/cc0d01f15c40656047caae88bbd3909ff535c116f2bba9e914423c8140e9/graphtools-1.5.2-py3-none-any.whl (45kB)\n",
            "\u001b[K     |████████████████████████████████| 51kB 5.9MB/s \n",
            "\u001b[?25hRequirement already satisfied: joblib in /usr/local/lib/python3.7/dist-packages (from harmonicalignment==0.0) (1.0.1)\n",
            "Collecting Deprecated\n",
            "  Downloading https://files.pythonhosted.org/packages/fb/73/994edfcba74443146c84b91921fcc269374354118d4f452fb0c54c1cbb12/Deprecated-1.2.12-py2.py3-none-any.whl\n",
            "Requirement already satisfied: wrapt<2,>=1.10 in /usr/local/lib/python3.7/dist-packages (from Deprecated->tasklogger>=0.4.0->harmonicalignment==0.0) (1.12.1)\n",
            "Building wheels for collected packages: harmonicalignment\n",
            "  Building wheel for harmonicalignment (setup.py) ... \u001b[?25l\u001b[?25hdone\n",
            "  Created wheel for harmonicalignment: filename=harmonicalignment-0.0-cp37-none-any.whl size=16737 sha256=dd493873eed3a3216ecb104f3ea5979c4391f8aef7ac0b6c2709c8fbe5ee7005\n",
            "  Stored in directory: /tmp/pip-ephem-wheel-cache-gof9j2q0/wheels/18/d1/9e/f6e1d66567e3a9cbf1095b7a289a512a587e51d04794eea987\n",
            "Successfully built harmonicalignment\n",
            "Installing collected packages: pygsp, Deprecated, tasklogger, graphtools, harmonicalignment\n",
            "Successfully installed Deprecated-1.2.12 graphtools-1.5.2 harmonicalignment-0.0 pygsp-0.5.1 tasklogger-1.1.0\n"
          ],
          "name": "stdout"
        }
      ]
    },
    {
      "cell_type": "code",
      "metadata": {
        "id": "EX4sceebslBu"
      },
      "source": [
        "import harmonicalignment"
      ],
      "execution_count": 22,
      "outputs": []
    },
    {
      "cell_type": "code",
      "metadata": {
        "id": "F_OgL3Z8cQtR"
      },
      "source": [
        "#sqrt CPM version\n",
        "\n",
        "def harmonic_alignment_sqrt_cpm(adata, n_eigenvectors=100, n_svd=100, n_pca_XY=100):\n",
        "  sqrt_cpm(adata)\n",
        "  log_cpm(adata)\n",
        "  n_svd = min([n_svd, min(adata.X.shape)-1, min(adata.obsm[\"mode2\"].shape)-1])\n",
        "  if adata.X.shape[0] <= n_eigenvectors:\n",
        "    n_eigenvectors = None\n",
        "  if adata.X.shape[0] <= n_pca_XY:\n",
        "    n_pca_XY = None\n",
        "  X_pca = sklearn.decomposition.TruncatedSVD(n_svd).fit_transform(adata.X)\n",
        "  Y_pca = sklearn.decomposition.TruncatedSVD(n_svd).fit_transform(adata.obsm[\"mode2\"])\n",
        "  ha_op = harmonicalignment.HarmonicAlignment(\n",
        "      n_filters=8, n_pca_XY=n_pca_XY, n_eigenvectors=n_eigenvectors\n",
        "  )\n",
        "  ha_op.align(X_pca, Y_pca)\n",
        "  XY_aligned = ha_op.diffusion_map(n_eigenvectors=n_eigenvectors)\n",
        "  adata.obsm[\"aligned\"] = XY_aligned[: X_pca.shape[0]]\n",
        "  adata.obsm[\"mode2_aligned\"] = XY_aligned[X_pca.shape[0] :]\n",
        "  return adata"
      ],
      "execution_count": 23,
      "outputs": []
    },
    {
      "cell_type": "markdown",
      "metadata": {
        "id": "V72J8bpXwvrJ"
      },
      "source": [
        "# **Scot Alignment**"
      ]
    },
    {
      "cell_type": "code",
      "metadata": {
        "colab": {
          "base_uri": "https://localhost:8080/"
        },
        "id": "5IVYLPeO4XpO",
        "outputId": "231e2382-3430-4ee5-83f2-a5acbb544aaa"
      },
      "source": [
        "!git clone https://github.com/rsinghlab/SCOT.git"
      ],
      "execution_count": 35,
      "outputs": [
        {
          "output_type": "stream",
          "text": [
            "fatal: destination path 'SCOT' already exists and is not an empty directory.\n"
          ],
          "name": "stdout"
        }
      ]
    },
    {
      "cell_type": "code",
      "metadata": {
        "colab": {
          "base_uri": "https://localhost:8080/"
        },
        "id": "-iJylJ3A9zGF",
        "outputId": "ff567503-5653-4381-c940-bc51458169ac"
      },
      "source": [
        "!pip install POT\n",
        "!pip install matlab\n",
        "!pip install cython"
      ],
      "execution_count": 41,
      "outputs": [
        {
          "output_type": "stream",
          "text": [
            "Collecting POT\n",
            "\u001b[?25l  Downloading https://files.pythonhosted.org/packages/1f/47/1ead874bd6ac538f246dcabfe04d3cc67ec94cf8fc8f952ff4e56c07cfe2/POT-0.7.0-cp37-cp37m-manylinux2010_x86_64.whl (430kB)\n",
            "\u001b[K     |████████████████████████████████| 440kB 5.4MB/s \n",
            "\u001b[?25hRequirement already satisfied: scipy>=1.0 in /usr/local/lib/python3.7/dist-packages (from POT) (1.4.1)\n",
            "Requirement already satisfied: numpy>=1.16 in /usr/local/lib/python3.7/dist-packages (from POT) (1.19.5)\n",
            "Requirement already satisfied: cython>=0.23 in /usr/local/lib/python3.7/dist-packages (from POT) (0.29.23)\n",
            "Installing collected packages: POT\n",
            "Successfully installed POT-0.7.0\n"
          ],
          "name": "stdout"
        }
      ]
    },
    {
      "cell_type": "code",
      "metadata": {
        "id": "5QPMqc7P5ej-"
      },
      "source": [
        "sys.path.insert(1, \"./SCOT/src\")\n",
        "import scot2\n",
        "from scot2 import SCOT"
      ],
      "execution_count": 44,
      "outputs": []
    },
    {
      "cell_type": "code",
      "metadata": {
        "id": "oeiau9OTy2Bc"
      },
      "source": [
        "def _scot(adata, n_svd=100, balanced=False):\n",
        "  n_svd = min(n_svd, min(adata.X.shape)-1, min(adata.obsm[\"mode2\"].shape)-1)\n",
        "  X_pca = sklearn.decomposition.TruncatedSVD(n_svd).fit_transform(adata.X)\n",
        "  Y_pca = sklearn.decomposition.TruncatedSVD(n_svd).fit_transform(adata.obsm[\"mode2\"])\n",
        "  \n",
        "  scot_new = SCOT(X_pca, Y_pca)\n",
        "  x_new_unbal, y_new_unbal = scot_new.align(\n",
        "      k=50, e=1e-3, rho=0.0005, normalize=True, balanced=balanced\n",
        "  )\n",
        "  adata.obsm[\"aligned\"] = np.array(x_new_unbal).squeeze()\n",
        "  adata.obsm[\"mode2_aligned\"] = np.array(y_new_unbal).squeeze()\n",
        "  return adata"
      ],
      "execution_count": 66,
      "outputs": []
    },
    {
      "cell_type": "code",
      "metadata": {
        "id": "XL1JwQQxExOr"
      },
      "source": [
        "#unbalanced method produces NaN for some reasons\n",
        "def scot_sqrt_cpm_unbalanced(adata, n_svd=100, balanced=False):\n",
        "  sqrt_cpm(adata)\n",
        "  log_cpm(adata, obsm=\"mode2\", obs=\"mode2_obs\", var=\"mode2_var\")\n",
        "  _scot(adata, n_svd=n_svd, balanced=balanced)\n",
        "  return adata\n",
        "\n",
        "def scot_sqrt_cpm_balanced(adata, n_svd=100, balanced=True):\n",
        "  sqrt_cpm(adata)\n",
        "  log_cpm(adata, obsm=\"mode2\", obs=\"mode2_obs\", var=\"mode2_var\")\n",
        "  _scot(adata, n_svd=n_svd, balanced=balanced)\n",
        "  return adata"
      ],
      "execution_count": 62,
      "outputs": []
    },
    {
      "cell_type": "markdown",
      "metadata": {
        "id": "txjCsdw-5Y-k"
      },
      "source": [
        "# **Store Scicar Dataset to h5ad File**"
      ]
    },
    {
      "cell_type": "code",
      "metadata": {
        "colab": {
          "base_uri": "https://localhost:8080/"
        },
        "id": "Cn-EWEUP5i9t",
        "outputId": "49e090ea-3a51-44e5-a5b0-96a4bc6a9122"
      },
      "source": [
        "from google.colab import drive\n",
        "drive.mount(\"/gdrive\")"
      ],
      "execution_count": 23,
      "outputs": [
        {
          "output_type": "stream",
          "text": [
            "Mounted at /gdrive\n"
          ],
          "name": "stdout"
        }
      ]
    },
    {
      "cell_type": "code",
      "metadata": {
        "colab": {
          "base_uri": "https://localhost:8080/",
          "height": 528
        },
        "id": "fM89hQET5X3w",
        "outputId": "4fb9345f-188e-4f3b-9b16-1c7887f7c3e3"
      },
      "source": [
        "scicar_data.write_h5ad(\"/gdrive/My Drive/scicar_data.h5ad\")"
      ],
      "execution_count": null,
      "outputs": [
        {
          "output_type": "stream",
          "text": [
            "... storing 'cell_name' as categorical\n",
            "... storing 'experiment' as categorical\n",
            "... storing 'source' as categorical\n",
            "... storing 'group' as categorical\n",
            "... storing 'gene_type' as categorical\n",
            "... storing 'gene_short_name' as categorical\n"
          ],
          "name": "stderr"
        },
        {
          "output_type": "error",
          "ename": "OSError",
          "evalue": "ignored",
          "traceback": [
            "\u001b[0;31m---------------------------------------------------------------------------\u001b[0m",
            "\u001b[0;31mOSError\u001b[0m                                   Traceback (most recent call last)",
            "\u001b[0;32m<ipython-input-32-64c29c6565c9>\u001b[0m in \u001b[0;36m<module>\u001b[0;34m()\u001b[0m\n\u001b[0;32m----> 1\u001b[0;31m \u001b[0mscicar_data\u001b[0m\u001b[0;34m.\u001b[0m\u001b[0mwrite_h5ad\u001b[0m\u001b[0;34m(\u001b[0m\u001b[0;34m\"/gdrive/My Drive/scicar_data.h5ad\"\u001b[0m\u001b[0;34m)\u001b[0m\u001b[0;34m\u001b[0m\u001b[0;34m\u001b[0m\u001b[0m\n\u001b[0m",
            "\u001b[0;32m/usr/local/lib/python3.7/dist-packages/anndata/_core/anndata.py\u001b[0m in \u001b[0;36mwrite_h5ad\u001b[0;34m(self, filename, compression, compression_opts, force_dense, as_dense)\u001b[0m\n\u001b[1;32m   1909\u001b[0m             \u001b[0mcompression_opts\u001b[0m\u001b[0;34m=\u001b[0m\u001b[0mcompression_opts\u001b[0m\u001b[0;34m,\u001b[0m\u001b[0;34m\u001b[0m\u001b[0;34m\u001b[0m\u001b[0m\n\u001b[1;32m   1910\u001b[0m             \u001b[0mforce_dense\u001b[0m\u001b[0;34m=\u001b[0m\u001b[0mforce_dense\u001b[0m\u001b[0;34m,\u001b[0m\u001b[0;34m\u001b[0m\u001b[0;34m\u001b[0m\u001b[0m\n\u001b[0;32m-> 1911\u001b[0;31m             \u001b[0mas_dense\u001b[0m\u001b[0;34m=\u001b[0m\u001b[0mas_dense\u001b[0m\u001b[0;34m,\u001b[0m\u001b[0;34m\u001b[0m\u001b[0;34m\u001b[0m\u001b[0m\n\u001b[0m\u001b[1;32m   1912\u001b[0m         )\n\u001b[1;32m   1913\u001b[0m \u001b[0;34m\u001b[0m\u001b[0m\n",
            "\u001b[0;32m/usr/local/lib/python3.7/dist-packages/anndata/_io/h5ad.py\u001b[0m in \u001b[0;36mwrite_h5ad\u001b[0;34m(filepath, adata, force_dense, as_dense, dataset_kwargs, **kwargs)\u001b[0m\n\u001b[1;32m     91\u001b[0m     \u001b[0;32mif\u001b[0m \u001b[0madata\u001b[0m\u001b[0;34m.\u001b[0m\u001b[0misbacked\u001b[0m\u001b[0;34m:\u001b[0m  \u001b[0;31m# close so that we can reopen below\u001b[0m\u001b[0;34m\u001b[0m\u001b[0;34m\u001b[0m\u001b[0m\n\u001b[1;32m     92\u001b[0m         \u001b[0madata\u001b[0m\u001b[0;34m.\u001b[0m\u001b[0mfile\u001b[0m\u001b[0;34m.\u001b[0m\u001b[0mclose\u001b[0m\u001b[0;34m(\u001b[0m\u001b[0;34m)\u001b[0m\u001b[0;34m\u001b[0m\u001b[0;34m\u001b[0m\u001b[0m\n\u001b[0;32m---> 93\u001b[0;31m     \u001b[0;32mwith\u001b[0m \u001b[0mh5py\u001b[0m\u001b[0;34m.\u001b[0m\u001b[0mFile\u001b[0m\u001b[0;34m(\u001b[0m\u001b[0mfilepath\u001b[0m\u001b[0;34m,\u001b[0m \u001b[0mmode\u001b[0m\u001b[0;34m)\u001b[0m \u001b[0;32mas\u001b[0m \u001b[0mf\u001b[0m\u001b[0;34m:\u001b[0m\u001b[0;34m\u001b[0m\u001b[0;34m\u001b[0m\u001b[0m\n\u001b[0m\u001b[1;32m     94\u001b[0m         \u001b[0;32mif\u001b[0m \u001b[0;34m\"X\"\u001b[0m \u001b[0;32min\u001b[0m \u001b[0mas_dense\u001b[0m \u001b[0;32mand\u001b[0m \u001b[0misinstance\u001b[0m\u001b[0;34m(\u001b[0m\u001b[0madata\u001b[0m\u001b[0;34m.\u001b[0m\u001b[0mX\u001b[0m\u001b[0;34m,\u001b[0m \u001b[0;34m(\u001b[0m\u001b[0msparse\u001b[0m\u001b[0;34m.\u001b[0m\u001b[0mspmatrix\u001b[0m\u001b[0;34m,\u001b[0m \u001b[0mSparseDataset\u001b[0m\u001b[0;34m)\u001b[0m\u001b[0;34m)\u001b[0m\u001b[0;34m:\u001b[0m\u001b[0;34m\u001b[0m\u001b[0;34m\u001b[0m\u001b[0m\n\u001b[1;32m     95\u001b[0m             \u001b[0mwrite_sparse_as_dense\u001b[0m\u001b[0;34m(\u001b[0m\u001b[0mf\u001b[0m\u001b[0;34m,\u001b[0m \u001b[0;34m\"X\"\u001b[0m\u001b[0;34m,\u001b[0m \u001b[0madata\u001b[0m\u001b[0;34m.\u001b[0m\u001b[0mX\u001b[0m\u001b[0;34m,\u001b[0m \u001b[0mdataset_kwargs\u001b[0m\u001b[0;34m=\u001b[0m\u001b[0mdataset_kwargs\u001b[0m\u001b[0;34m)\u001b[0m\u001b[0;34m\u001b[0m\u001b[0;34m\u001b[0m\u001b[0m\n",
            "\u001b[0;32m/usr/local/lib/python3.7/dist-packages/h5py/_hl/files.py\u001b[0m in \u001b[0;36m__init__\u001b[0;34m(self, name, mode, driver, libver, userblock_size, swmr, rdcc_nslots, rdcc_nbytes, rdcc_w0, track_order, fs_strategy, fs_persist, fs_threshold, **kwds)\u001b[0m\n\u001b[1;32m    425\u001b[0m                                fapl, fcpl=make_fcpl(track_order=track_order, fs_strategy=fs_strategy,\n\u001b[1;32m    426\u001b[0m                                fs_persist=fs_persist, fs_threshold=fs_threshold),\n\u001b[0;32m--> 427\u001b[0;31m                                swmr=swmr)\n\u001b[0m\u001b[1;32m    428\u001b[0m \u001b[0;34m\u001b[0m\u001b[0m\n\u001b[1;32m    429\u001b[0m             \u001b[0;32mif\u001b[0m \u001b[0misinstance\u001b[0m\u001b[0;34m(\u001b[0m\u001b[0mlibver\u001b[0m\u001b[0;34m,\u001b[0m \u001b[0mtuple\u001b[0m\u001b[0;34m)\u001b[0m\u001b[0;34m:\u001b[0m\u001b[0;34m\u001b[0m\u001b[0;34m\u001b[0m\u001b[0m\n",
            "\u001b[0;32m/usr/local/lib/python3.7/dist-packages/h5py/_hl/files.py\u001b[0m in \u001b[0;36mmake_fid\u001b[0;34m(name, mode, userblock_size, fapl, fcpl, swmr)\u001b[0m\n\u001b[1;32m    194\u001b[0m         \u001b[0mfid\u001b[0m \u001b[0;34m=\u001b[0m \u001b[0mh5f\u001b[0m\u001b[0;34m.\u001b[0m\u001b[0mcreate\u001b[0m\u001b[0;34m(\u001b[0m\u001b[0mname\u001b[0m\u001b[0;34m,\u001b[0m \u001b[0mh5f\u001b[0m\u001b[0;34m.\u001b[0m\u001b[0mACC_EXCL\u001b[0m\u001b[0;34m,\u001b[0m \u001b[0mfapl\u001b[0m\u001b[0;34m=\u001b[0m\u001b[0mfapl\u001b[0m\u001b[0;34m,\u001b[0m \u001b[0mfcpl\u001b[0m\u001b[0;34m=\u001b[0m\u001b[0mfcpl\u001b[0m\u001b[0;34m)\u001b[0m\u001b[0;34m\u001b[0m\u001b[0;34m\u001b[0m\u001b[0m\n\u001b[1;32m    195\u001b[0m     \u001b[0;32melif\u001b[0m \u001b[0mmode\u001b[0m \u001b[0;34m==\u001b[0m \u001b[0;34m'w'\u001b[0m\u001b[0;34m:\u001b[0m\u001b[0;34m\u001b[0m\u001b[0;34m\u001b[0m\u001b[0m\n\u001b[0;32m--> 196\u001b[0;31m         \u001b[0mfid\u001b[0m \u001b[0;34m=\u001b[0m \u001b[0mh5f\u001b[0m\u001b[0;34m.\u001b[0m\u001b[0mcreate\u001b[0m\u001b[0;34m(\u001b[0m\u001b[0mname\u001b[0m\u001b[0;34m,\u001b[0m \u001b[0mh5f\u001b[0m\u001b[0;34m.\u001b[0m\u001b[0mACC_TRUNC\u001b[0m\u001b[0;34m,\u001b[0m \u001b[0mfapl\u001b[0m\u001b[0;34m=\u001b[0m\u001b[0mfapl\u001b[0m\u001b[0;34m,\u001b[0m \u001b[0mfcpl\u001b[0m\u001b[0;34m=\u001b[0m\u001b[0mfcpl\u001b[0m\u001b[0;34m)\u001b[0m\u001b[0;34m\u001b[0m\u001b[0;34m\u001b[0m\u001b[0m\n\u001b[0m\u001b[1;32m    197\u001b[0m     \u001b[0;32melif\u001b[0m \u001b[0mmode\u001b[0m \u001b[0;34m==\u001b[0m \u001b[0;34m'a'\u001b[0m\u001b[0;34m:\u001b[0m\u001b[0;34m\u001b[0m\u001b[0;34m\u001b[0m\u001b[0m\n\u001b[1;32m    198\u001b[0m         \u001b[0;31m# Open in append mode (read/write).\u001b[0m\u001b[0;34m\u001b[0m\u001b[0;34m\u001b[0m\u001b[0;34m\u001b[0m\u001b[0m\n",
            "\u001b[0;32mh5py/_objects.pyx\u001b[0m in \u001b[0;36mh5py._objects.with_phil.wrapper\u001b[0;34m()\u001b[0m\n",
            "\u001b[0;32mh5py/_objects.pyx\u001b[0m in \u001b[0;36mh5py._objects.with_phil.wrapper\u001b[0;34m()\u001b[0m\n",
            "\u001b[0;32mh5py/h5f.pyx\u001b[0m in \u001b[0;36mh5py.h5f.create\u001b[0;34m()\u001b[0m\n",
            "\u001b[0;31mOSError\u001b[0m: Unable to create file (unable to open file: name = '/gdrive/My Drive/scicar_data.h5ad', errno = 2, error message = 'No such file or directory', flags = 13, o_flags = 242)"
          ]
        }
      ]
    },
    {
      "cell_type": "markdown",
      "metadata": {
        "id": "Zbeeakc1yFqN"
      },
      "source": [
        "# **MNN**"
      ]
    },
    {
      "cell_type": "code",
      "metadata": {
        "colab": {
          "base_uri": "https://localhost:8080/"
        },
        "id": "w8kpcRG_py_f",
        "outputId": "a31c1e0d-41ec-45e6-91cf-c50bd3f986ba"
      },
      "source": [
        "#convert R function to a collable py function\n",
        "_mnn = r_function(\"/gdrive/My Drive/mnn.R\")\n",
        "#mnn with log_cpm preprocessing\n",
        "\n",
        "def mnn_log_cpm(adata):\n",
        "  log_cpm(adata)\n",
        "  log_cpm(adata, obsm=\"mode2\", obs=\"mode2_obs\", var=\"mode2_var\")\n",
        "  return _mnn(adata)\n",
        "  \n",
        "#mnn with log_scran preprocessing\n",
        "def mnn_log_scran_pooling(adata):\n",
        "  log_scran_pooling(adata)\n",
        "  log_cpm(adta, obsm=\"mode2\", obs=\"mode2_obs\", var=\"mode2_var\")\n",
        "  return _mnn(adata)"
      ],
      "execution_count": null,
      "outputs": [
        {
          "output_type": "stream",
          "text": [
            "/gdrive/My Drive/mnn.R\n"
          ],
          "name": "stdout"
        }
      ]
    },
    {
      "cell_type": "code",
      "metadata": {
        "colab": {
          "base_uri": "https://localhost:8080/",
          "height": 1000
        },
        "id": "hqFKBaK0wg7u",
        "outputId": "1691e9e0-4633-4051-a4bf-9cebba993d18"
      },
      "source": [
        "%%capture\n",
        "test_scicar_data = subset_joint_data(scicar_data)\n",
        "test_scicar_data = mnn_log_scran_pooling(test_scicar_data)\n",
        "#knn_auc(test_scicar_data)"
      ],
      "execution_count": null,
      "outputs": [
        {
          "output_type": "stream",
          "text": [
            "R[write to console]: Loading required package: BiocManager\n",
            "R[write to console]: Bioconductor version 3.13 (BiocManager 1.30.16), R 4.1.0 (2021-05-18)\n",
            "R[write to console]: Loading required package: scran\n",
            "R[write to console]: 'getOption(\"repos\")' replaces Bioconductor standard repositories, see\n",
            "'?repositories' for details\n",
            "\n",
            "replacement repositories:\n",
            "    CRAN: https://cran.rstudio.com\n",
            "R[write to console]: Bioconductor version 3.13 (BiocManager 1.30.16), R 4.1.0 (2021-05-18)\n",
            "R[write to console]: Installing package(s) 'BiocVersion', 'scran'\n",
            "R[write to console]: also installing the dependencies ‘XVector’, ‘RCurl’, ‘lambda.r’, ‘GenomicRanges’, ‘MatrixGenerics’, ‘Biobase’, ‘IRanges’, ‘GenomeInfoDb’, ‘futile.logger’, ‘matrixStats’, ‘sparseMatrixStats’, ‘ScaledMatrix’, ‘irlba’, ‘rsvd’, ‘BiocNeighbors’, ‘sitmo’, ‘SingleCellExperiment’, ‘scuttle’, ‘SummarizedExperiment’, ‘S4Vectors’, ‘BiocGenerics’, ‘BiocParallel’, ‘edgeR’, ‘limma’, ‘igraph’, ‘statmod’, ‘DelayedArray’, ‘DelayedMatrixStats’, ‘BiocSingular’, ‘bluster’, ‘metapod’, ‘dqrng’, ‘beachmat’\n",
            "R[write to console]: trying URL 'https://bioconductor.org/packages/3.13/bioc/src/contrib/XVector_0.32.0.tar.gz'\n",
            "R[write to console]: Content type 'application/x-gzip'\n",
            "R[write to console]: length 67790 bytes (66 KB)\n",
            "R[write to console]: \n",
            "R[write to console]: downloaded 66 KB\n",
            "R[write to console]: trying URL 'https://cran.rstudio.com/src/contrib/RCurl_1.98-1.3.tar.gz'\n",
            "R[write to console]: Content type 'application/x-gzip'\n",
            "R[write to console]: length 728630 bytes (711 KB)\n",
            "R[write to console]: \n",
            "R[write to console]: downloaded 711 KB\n",
            "R[write to console]: trying URL 'https://cran.rstudio.com/src/contrib/lambda.r_1.2.4.tar.gz'\n",
            "R[write to console]: Content type 'application/x-gzip'\n",
            "R[write to console]: length 25666 bytes (25 KB)\n",
            "R[write to console]: \n",
            "R[write to console]: downloaded 25 KB\n",
            "R[write to console]: trying URL 'https://bioconductor.org/packages/3.13/bioc/src/contrib/GenomicRanges_1.44.0.tar.gz'\n",
            "R[write to console]: Content type 'application/x-gzip'\n",
            "R[write to console]: length 1174233 bytes (1.1 MB)\n",
            "R[write to console]: \n",
            "R[write to console]: downloaded 1.1 MB\n",
            "R[write to console]: trying URL 'https://bioconductor.org/packages/3.13/bioc/src/contrib/MatrixGenerics_1.4.0.tar.gz'\n",
            "R[write to console]: Content type 'application/x-gzip'\n",
            "R[write to console]: length 27854 bytes (27 KB)\n",
            "R[write to console]: \n",
            "R[write to console]: downloaded 27 KB\n",
            "R[write to console]: trying URL 'https://bioconductor.org/packages/3.13/bioc/src/contrib/Biobase_2.52.0.tar.gz'\n",
            "R[write to console]: Content type 'application/x-gzip'\n",
            "R[write to console]: length 1641182 bytes (1.6 MB)\n",
            "R[write to console]: \n",
            "R[write to console]: downloaded 1.6 MB\n",
            "R[write to console]: trying URL 'https://bioconductor.org/packages/3.13/bioc/src/contrib/IRanges_2.26.0.tar.gz'\n",
            "R[write to console]: Content type 'application/x-gzip'\n",
            "R[write to console]: length 454754 bytes (444 KB)\n",
            "R[write to console]: \n",
            "R[write to console]: downloaded 444 KB\n",
            "R[write to console]: trying URL 'https://bioconductor.org/packages/3.13/bioc/src/contrib/GenomeInfoDb_1.28.1.tar.gz'\n",
            "R[write to console]: Content type 'application/x-gzip'\n",
            "R[write to console]: length 3455289 bytes (3.3 MB)\n",
            "R[write to console]: \n",
            "R[write to console]: downloaded 3.3 MB\n",
            "R[write to console]: trying URL 'https://cran.rstudio.com/src/contrib/futile.logger_1.4.3.tar.gz'\n",
            "R[write to console]: Content type 'application/x-gzip'\n",
            "R[write to console]: length 17456 bytes (17 KB)\n",
            "R[write to console]: \n",
            "R[write to console]: downloaded 17 KB\n",
            "R[write to console]: trying URL 'https://cran.rstudio.com/src/contrib/matrixStats_0.59.0.tar.gz'\n",
            "R[write to console]: Content type 'application/x-gzip'\n",
            "R[write to console]: length 194487 bytes (189 KB)\n",
            "R[write to console]: \n",
            "R[write to console]: downloaded 189 KB\n",
            "R[write to console]: trying URL 'https://bioconductor.org/packages/3.13/bioc/src/contrib/sparseMatrixStats_1.4.0.tar.gz'\n",
            "R[write to console]: Content type 'application/x-gzip'\n",
            "R[write to console]: length 702544 bytes (686 KB)\n",
            "R[write to console]: \n",
            "R[write to console]: downloaded 686 KB\n",
            "R[write to console]: trying URL 'https://bioconductor.org/packages/3.13/bioc/src/contrib/ScaledMatrix_1.0.0.tar.gz'\n",
            "R[write to console]: Content type 'application/x-gzip'\n",
            "R[write to console]: length 299584 bytes (292 KB)\n",
            "R[write to console]: \n",
            "R[write to console]: downloaded 292 KB\n",
            "R[write to console]: trying URL 'https://cran.rstudio.com/src/contrib/irlba_2.3.3.tar.gz'\n",
            "R[write to console]: Content type 'application/x-gzip'\n",
            "R[write to console]: length 234753 bytes (229 KB)\n",
            "R[write to console]: \n",
            "R[write to console]: downloaded 229 KB\n",
            "R[write to console]: trying URL 'https://cran.rstudio.com/src/contrib/rsvd_1.0.5.tar.gz'\n",
            "R[write to console]: Content type 'application/x-gzip'\n",
            "R[write to console]: length 3458090 bytes (3.3 MB)\n",
            "R[write to console]: \n",
            "R[write to console]: downloaded 3.3 MB\n",
            "R[write to console]: trying URL 'https://bioconductor.org/packages/3.13/bioc/src/contrib/BiocNeighbors_1.10.0.tar.gz'\n",
            "R[write to console]: Content type 'application/x-gzip'\n",
            "R[write to console]: length 943311 bytes (921 KB)\n",
            "R[write to console]: \n",
            "R[write to console]: downloaded 921 KB\n",
            "R[write to console]: trying URL 'https://cran.rstudio.com/src/contrib/sitmo_2.0.1.tar.gz'\n",
            "R[write to console]: Content type 'application/x-gzip'\n",
            "R[write to console]: length 124658 bytes (121 KB)\n",
            "R[write to console]: \n",
            "R[write to console]: downloaded 121 KB\n",
            "R[write to console]: trying URL 'https://bioconductor.org/packages/3.13/bioc/src/contrib/SingleCellExperiment_1.14.1.tar.gz'\n",
            "R[write to console]: Content type 'application/x-gzip'\n",
            "R[write to console]: length 941185 bytes (919 KB)\n",
            "R[write to console]: \n",
            "R[write to console]: downloaded 919 KB\n",
            "R[write to console]: trying URL 'https://bioconductor.org/packages/3.13/bioc/src/contrib/scuttle_1.2.0.tar.gz'\n",
            "R[write to console]: Content type 'application/x-gzip'\n",
            "R[write to console]: length 985902 bytes (962 KB)\n",
            "R[write to console]: \n",
            "R[write to console]: downloaded 962 KB\n",
            "R[write to console]: trying URL 'https://bioconductor.org/packages/3.13/bioc/src/contrib/SummarizedExperiment_1.22.0.tar.gz'\n",
            "R[write to console]: Content type 'application/x-gzip'\n",
            "R[write to console]: length 1528774 bytes (1.5 MB)\n",
            "R[write to console]: \n",
            "R[write to console]: downloaded 1.5 MB\n",
            "R[write to console]: trying URL 'https://bioconductor.org/packages/3.13/bioc/src/contrib/S4Vectors_0.30.0.tar.gz'\n",
            "R[write to console]: Content type 'application/x-gzip'\n",
            "R[write to console]: length 666133 bytes (650 KB)\n",
            "R[write to console]: \n",
            "R[write to console]: downloaded 650 KB\n",
            "R[write to console]: trying URL 'https://bioconductor.org/packages/3.13/bioc/src/contrib/BiocGenerics_0.38.0.tar.gz'\n",
            "R[write to console]: Content type 'application/x-gzip'\n",
            "R[write to console]: length 46716 bytes (45 KB)\n",
            "R[write to console]: \n",
            "R[write to console]: downloaded 45 KB\n",
            "R[write to console]: trying URL 'https://bioconductor.org/packages/3.13/bioc/src/contrib/BiocParallel_1.26.1.tar.gz'\n",
            "R[write to console]: Content type 'application/x-gzip'\n",
            "R[write to console]: length 708387 bytes (691 KB)\n",
            "R[write to console]: \n",
            "R[write to console]: downloaded 691 KB\n",
            "R[write to console]: trying URL 'https://bioconductor.org/packages/3.13/bioc/src/contrib/edgeR_3.34.0.tar.gz'\n",
            "R[write to console]: Content type 'application/x-gzip'\n",
            "R[write to console]: length 1724233 bytes (1.6 MB)\n",
            "R[write to console]: \n",
            "R[write to console]: downloaded 1.6 MB\n",
            "R[write to console]: trying URL 'https://bioconductor.org/packages/3.13/bioc/src/contrib/limma_3.48.1.tar.gz'\n",
            "R[write to console]: Content type 'application/x-gzip'\n",
            "R[write to console]: length 1560271 bytes (1.5 MB)\n",
            "R[write to console]: \n",
            "R[write to console]: downloaded 1.5 MB\n",
            "R[write to console]: trying URL 'https://cran.rstudio.com/src/contrib/igraph_1.2.6.tar.gz'\n",
            "R[write to console]: Content type 'application/x-gzip'\n",
            "R[write to console]: length 2715500 bytes (2.6 MB)\n",
            "R[write to console]: \n",
            "R[write to console]: downloaded 2.6 MB\n",
            "R[write to console]: trying URL 'https://cran.rstudio.com/src/contrib/statmod_1.4.36.tar.gz'\n",
            "R[write to console]: Content type 'application/x-gzip'\n",
            "R[write to console]: length 93897 bytes (91 KB)\n",
            "R[write to console]: \n",
            "R[write to console]: downloaded 91 KB\n",
            "R[write to console]: trying URL 'https://bioconductor.org/packages/3.13/bioc/src/contrib/DelayedArray_0.18.0.tar.gz'\n",
            "R[write to console]: Content type 'application/x-gzip'\n",
            "R[write to console]: length 678949 bytes (663 KB)\n",
            "R[write to console]: \n",
            "R[write to console]: downloaded 663 KB\n",
            "R[write to console]: trying URL 'https://bioconductor.org/packages/3.13/bioc/src/contrib/DelayedMatrixStats_1.14.0.tar.gz'\n",
            "R[write to console]: Content type 'application/x-gzip'\n",
            "R[write to console]: length 278010 bytes (271 KB)\n",
            "R[write to console]: \n",
            "R[write to console]: downloaded 271 KB\n",
            "R[write to console]: trying URL 'https://bioconductor.org/packages/3.13/bioc/src/contrib/BiocSingular_1.8.1.tar.gz'\n",
            "R[write to console]: Content type 'application/x-gzip'\n",
            "R[write to console]: length 588376 bytes (574 KB)\n",
            "R[write to console]: \n",
            "R[write to console]: downloaded 574 KB\n",
            "R[write to console]: trying URL 'https://bioconductor.org/packages/3.13/bioc/src/contrib/bluster_1.2.1.tar.gz'\n",
            "R[write to console]: Content type 'application/x-gzip'\n",
            "R[write to console]: length 2961419 bytes (2.8 MB)\n",
            "R[write to console]: \n",
            "R[write to console]: downloaded 2.8 MB\n",
            "R[write to console]: trying URL 'https://bioconductor.org/packages/3.13/bioc/src/contrib/metapod_1.0.0.tar.gz'\n",
            "R[write to console]: Content type 'application/x-gzip'\n",
            "R[write to console]: length 318544 bytes (311 KB)\n",
            "R[write to console]: \n",
            "R[write to console]: downloaded 311 KB\n",
            "R[write to console]: trying URL 'https://cran.rstudio.com/src/contrib/dqrng_0.3.0.tar.gz'\n",
            "R[write to console]: Content type 'application/x-gzip'\n",
            "R[write to console]: length 85590 bytes (83 KB)\n",
            "R[write to console]: \n",
            "R[write to console]: downloaded 83 KB\n",
            "R[write to console]: trying URL 'https://bioconductor.org/packages/3.13/bioc/src/contrib/beachmat_2.8.0.tar.gz'\n",
            "R[write to console]: Content type 'application/x-gzip'\n",
            "R[write to console]: length 1248863 bytes (1.2 MB)\n",
            "R[write to console]: \n",
            "R[write to console]: downloaded 1.2 MB\n",
            "R[write to console]: trying URL 'https://bioconductor.org/packages/3.13/bioc/src/contrib/BiocVersion_3.13.1.tar.gz'\n",
            "R[write to console]: Content type 'application/x-gzip'\n",
            "R[write to console]: length 985 bytes\n",
            "R[write to console]: \n",
            "R[write to console]: downloaded 985 bytes\n",
            "R[write to console]: trying URL 'https://bioconductor.org/packages/3.13/bioc/src/contrib/scran_1.20.1.tar.gz'\n",
            "R[write to console]: Content type 'application/x-gzip'\n",
            "R[write to console]: length 1783146 bytes (1.7 MB)\n",
            "R[write to console]: \n",
            "R[write to console]: downloaded 1.7 MB\n",
            "R[write to console]: \n",
            "R[write to console]: \n",
            "R[write to console]: The downloaded source packages are in\n",
            "\t‘/tmp/RtmpbrPR4l/downloaded_packages’\n",
            "R[write to console]: \n",
            "R[write to console]: \n",
            "/usr/local/lib/python3.7/dist-packages/scprep/run/conversion.py:138: RuntimeWarning: Object not converted: AnnData object with n_obs × n_vars = 475 × 1262\n",
            "    obs: 'cell_name', 'experiment', 'treatment_time', 'source', 'group'\n",
            "    var: 'gene_type', 'gene_short_name', 'n_counts'\n",
            "    uns: 'mode2_obs', 'mode2_var', 'mode2_varnames', 'mode2_var_id', 'mode2_var_chr', 'mode2_var_start', 'mode2_var_end'\n",
            "    obsm: 'mode2' (type AnnData)\n",
            "  RuntimeWarning,\n"
          ],
          "name": "stderr"
        },
        {
          "output_type": "error",
          "ename": "RRuntimeError",
          "evalue": "ignored",
          "traceback": [
            "\u001b[0;31m---------------------------------------------------------------------------\u001b[0m",
            "\u001b[0;31mAttributeError\u001b[0m                            Traceback (most recent call last)",
            "\u001b[0;32m/usr/local/lib/python3.7/dist-packages/scprep/run/r_function.py\u001b[0m in \u001b[0;36mfunction\u001b[0;34m(self)\u001b[0m\n\u001b[1;32m    106\u001b[0m         \u001b[0;32mtry\u001b[0m\u001b[0;34m:\u001b[0m\u001b[0;34m\u001b[0m\u001b[0;34m\u001b[0m\u001b[0m\n\u001b[0;32m--> 107\u001b[0;31m             \u001b[0;32mreturn\u001b[0m \u001b[0mself\u001b[0m\u001b[0;34m.\u001b[0m\u001b[0m_function\u001b[0m\u001b[0;34m\u001b[0m\u001b[0;34m\u001b[0m\u001b[0m\n\u001b[0m\u001b[1;32m    108\u001b[0m         \u001b[0;32mexcept\u001b[0m \u001b[0mAttributeError\u001b[0m\u001b[0;34m:\u001b[0m\u001b[0;34m\u001b[0m\u001b[0;34m\u001b[0m\u001b[0m\n",
            "\u001b[0;31mAttributeError\u001b[0m: 'RFunction' object has no attribute '_function'",
            "\nDuring handling of the above exception, another exception occurred:\n",
            "\u001b[0;31mRRuntimeError\u001b[0m                             Traceback (most recent call last)",
            "\u001b[0;32m<ipython-input-31-401b1735f7c8>\u001b[0m in \u001b[0;36m<module>\u001b[0;34m()\u001b[0m\n\u001b[1;32m      1\u001b[0m \u001b[0mtest_scicar_data\u001b[0m \u001b[0;34m=\u001b[0m \u001b[0msubset_joint_data\u001b[0m\u001b[0;34m(\u001b[0m\u001b[0mscicar_data\u001b[0m\u001b[0;34m)\u001b[0m\u001b[0;34m\u001b[0m\u001b[0;34m\u001b[0m\u001b[0m\n\u001b[0;32m----> 2\u001b[0;31m \u001b[0mtest_scicar_data\u001b[0m \u001b[0;34m=\u001b[0m \u001b[0mmnn_log_scran_pooling\u001b[0m\u001b[0;34m(\u001b[0m\u001b[0mtest_scicar_data\u001b[0m\u001b[0;34m)\u001b[0m\u001b[0;34m\u001b[0m\u001b[0;34m\u001b[0m\u001b[0m\n\u001b[0m\u001b[1;32m      3\u001b[0m \u001b[0;31m#knn_auc(test_scicar_data)\u001b[0m\u001b[0;34m\u001b[0m\u001b[0;34m\u001b[0m\u001b[0;34m\u001b[0m\u001b[0m\n",
            "\u001b[0;32m<ipython-input-30-a372d414b445>\u001b[0m in \u001b[0;36mmnn_log_scran_pooling\u001b[0;34m(adata)\u001b[0m\n\u001b[1;32m      1\u001b[0m \u001b[0;31m#mnn with log_scran preprocessing\u001b[0m\u001b[0;34m\u001b[0m\u001b[0;34m\u001b[0m\u001b[0;34m\u001b[0m\u001b[0m\n\u001b[1;32m      2\u001b[0m \u001b[0;32mdef\u001b[0m \u001b[0mmnn_log_scran_pooling\u001b[0m\u001b[0;34m(\u001b[0m\u001b[0madata\u001b[0m\u001b[0;34m)\u001b[0m\u001b[0;34m:\u001b[0m\u001b[0;34m\u001b[0m\u001b[0;34m\u001b[0m\u001b[0m\n\u001b[0;32m----> 3\u001b[0;31m   \u001b[0mlog_scran_pooling\u001b[0m\u001b[0;34m(\u001b[0m\u001b[0madata\u001b[0m\u001b[0;34m)\u001b[0m\u001b[0;34m\u001b[0m\u001b[0;34m\u001b[0m\u001b[0m\n\u001b[0m\u001b[1;32m      4\u001b[0m   \u001b[0mlog_cpm\u001b[0m\u001b[0;34m(\u001b[0m\u001b[0madta\u001b[0m\u001b[0;34m,\u001b[0m \u001b[0mobsm\u001b[0m\u001b[0;34m=\u001b[0m\u001b[0;34m\"mode2\"\u001b[0m\u001b[0;34m,\u001b[0m \u001b[0mobs\u001b[0m\u001b[0;34m=\u001b[0m\u001b[0;34m\"mode2_obs\"\u001b[0m\u001b[0;34m,\u001b[0m \u001b[0mvar\u001b[0m\u001b[0;34m=\u001b[0m\u001b[0;34m\"mode2_var\"\u001b[0m\u001b[0;34m)\u001b[0m\u001b[0;34m\u001b[0m\u001b[0;34m\u001b[0m\u001b[0m\n\u001b[1;32m      5\u001b[0m   \u001b[0;32mreturn\u001b[0m \u001b[0m_mnn\u001b[0m\u001b[0;34m(\u001b[0m\u001b[0madata\u001b[0m\u001b[0;34m)\u001b[0m\u001b[0;34m\u001b[0m\u001b[0;34m\u001b[0m\u001b[0m\n",
            "\u001b[0;32m<ipython-input-20-0242400f68f5>\u001b[0m in \u001b[0;36mlog_scran_pooling\u001b[0;34m(adata)\u001b[0m\n\u001b[1;32m      6\u001b[0m \u001b[0;32mdef\u001b[0m \u001b[0mlog_scran_pooling\u001b[0m\u001b[0;34m(\u001b[0m\u001b[0madata\u001b[0m\u001b[0;34m)\u001b[0m\u001b[0;34m:\u001b[0m\u001b[0;34m\u001b[0m\u001b[0;34m\u001b[0m\u001b[0m\n\u001b[1;32m      7\u001b[0m   \u001b[0mscprep\u001b[0m\u001b[0;34m.\u001b[0m\u001b[0mrun\u001b[0m\u001b[0;34m.\u001b[0m\u001b[0minstall_bioconductor\u001b[0m\u001b[0;34m(\u001b[0m\u001b[0;34m\"scran\"\u001b[0m\u001b[0;34m)\u001b[0m\u001b[0;34m\u001b[0m\u001b[0;34m\u001b[0m\u001b[0m\n\u001b[0;32m----> 8\u001b[0;31m   \u001b[0madata\u001b[0m\u001b[0;34m.\u001b[0m\u001b[0mobs\u001b[0m\u001b[0;34m[\u001b[0m\u001b[0;34m\"size_factor\"\u001b[0m\u001b[0;34m]\u001b[0m \u001b[0;34m=\u001b[0m \u001b[0m_scran\u001b[0m\u001b[0;34m(\u001b[0m\u001b[0madata\u001b[0m\u001b[0;34m)\u001b[0m\u001b[0;34m\u001b[0m\u001b[0;34m\u001b[0m\u001b[0m\n\u001b[0m\u001b[1;32m      9\u001b[0m \u001b[0;34m\u001b[0m\u001b[0m\n\u001b[1;32m     10\u001b[0m   \u001b[0;31m#why here is multiplication instead of division\u001b[0m\u001b[0;34m\u001b[0m\u001b[0;34m\u001b[0m\u001b[0;34m\u001b[0m\u001b[0m\n",
            "\u001b[0;32m<decorator-gen-145>\u001b[0m in \u001b[0;36m__call__\u001b[0;34m(self, rpy_cleanup, rpy_verbose, *args, **kwargs)\u001b[0m\n",
            "\u001b[0;32m/usr/local/lib/python3.7/dist-packages/scprep/utils.py\u001b[0m in \u001b[0;36m_with_pkg\u001b[0;34m(fun, pkg, min_version, *args, **kwargs)\u001b[0m\n\u001b[1;32m     78\u001b[0m         \u001b[0mcheck_version\u001b[0m\u001b[0;34m(\u001b[0m\u001b[0mpkg\u001b[0m\u001b[0;34m,\u001b[0m \u001b[0mmin_version\u001b[0m\u001b[0;34m=\u001b[0m\u001b[0mmin_version\u001b[0m\u001b[0;34m)\u001b[0m\u001b[0;34m\u001b[0m\u001b[0;34m\u001b[0m\u001b[0m\n\u001b[1;32m     79\u001b[0m         \u001b[0m__imported_pkgs\u001b[0m\u001b[0;34m.\u001b[0m\u001b[0madd\u001b[0m\u001b[0;34m(\u001b[0m\u001b[0;34m(\u001b[0m\u001b[0mpkg\u001b[0m\u001b[0;34m,\u001b[0m \u001b[0mmin_version\u001b[0m\u001b[0;34m)\u001b[0m\u001b[0;34m)\u001b[0m\u001b[0;34m\u001b[0m\u001b[0;34m\u001b[0m\u001b[0m\n\u001b[0;32m---> 80\u001b[0;31m     \u001b[0;32mreturn\u001b[0m \u001b[0mfun\u001b[0m\u001b[0;34m(\u001b[0m\u001b[0;34m*\u001b[0m\u001b[0margs\u001b[0m\u001b[0;34m,\u001b[0m \u001b[0;34m**\u001b[0m\u001b[0mkwargs\u001b[0m\u001b[0;34m)\u001b[0m\u001b[0;34m\u001b[0m\u001b[0;34m\u001b[0m\u001b[0m\n\u001b[0m\u001b[1;32m     81\u001b[0m \u001b[0;34m\u001b[0m\u001b[0m\n\u001b[1;32m     82\u001b[0m \u001b[0;34m\u001b[0m\u001b[0m\n",
            "\u001b[0;32m/usr/local/lib/python3.7/dist-packages/scprep/run/r_function.py\u001b[0m in \u001b[0;36m__call__\u001b[0;34m(self, rpy_cleanup, rpy_verbose, *args, **kwargs)\u001b[0m\n\u001b[1;32m    122\u001b[0m         \u001b[0mkwargs\u001b[0m \u001b[0;34m=\u001b[0m \u001b[0;34m{\u001b[0m\u001b[0mk\u001b[0m\u001b[0;34m:\u001b[0m \u001b[0mconversion\u001b[0m\u001b[0;34m.\u001b[0m\u001b[0mpy2rpy\u001b[0m\u001b[0;34m(\u001b[0m\u001b[0mv\u001b[0m\u001b[0;34m)\u001b[0m \u001b[0;32mfor\u001b[0m \u001b[0mk\u001b[0m\u001b[0;34m,\u001b[0m \u001b[0mv\u001b[0m \u001b[0;32min\u001b[0m \u001b[0mkwargs\u001b[0m\u001b[0;34m.\u001b[0m\u001b[0mitems\u001b[0m\u001b[0;34m(\u001b[0m\u001b[0;34m)\u001b[0m\u001b[0;34m}\u001b[0m\u001b[0;34m\u001b[0m\u001b[0;34m\u001b[0m\u001b[0m\n\u001b[1;32m    123\u001b[0m         \u001b[0;32mwith\u001b[0m \u001b[0m_ConsoleWarning\u001b[0m\u001b[0;34m(\u001b[0m\u001b[0mrpy_verbose\u001b[0m\u001b[0;34m)\u001b[0m\u001b[0;34m:\u001b[0m\u001b[0;34m\u001b[0m\u001b[0;34m\u001b[0m\u001b[0m\n\u001b[0;32m--> 124\u001b[0;31m             \u001b[0mrobject\u001b[0m \u001b[0;34m=\u001b[0m \u001b[0mself\u001b[0m\u001b[0;34m.\u001b[0m\u001b[0mfunction\u001b[0m\u001b[0;34m(\u001b[0m\u001b[0;34m*\u001b[0m\u001b[0margs\u001b[0m\u001b[0;34m,\u001b[0m \u001b[0;34m**\u001b[0m\u001b[0mkwargs\u001b[0m\u001b[0;34m)\u001b[0m\u001b[0;34m\u001b[0m\u001b[0;34m\u001b[0m\u001b[0m\n\u001b[0m\u001b[1;32m    125\u001b[0m             \u001b[0mrobject\u001b[0m \u001b[0;34m=\u001b[0m \u001b[0mconversion\u001b[0m\u001b[0;34m.\u001b[0m\u001b[0mrpy2py\u001b[0m\u001b[0;34m(\u001b[0m\u001b[0mrobject\u001b[0m\u001b[0;34m)\u001b[0m\u001b[0;34m\u001b[0m\u001b[0;34m\u001b[0m\u001b[0m\n\u001b[1;32m    126\u001b[0m             \u001b[0;32mif\u001b[0m \u001b[0mrpy_cleanup\u001b[0m\u001b[0;34m:\u001b[0m\u001b[0;34m\u001b[0m\u001b[0;34m\u001b[0m\u001b[0m\n",
            "\u001b[0;32m/usr/local/lib/python3.7/dist-packages/scprep/run/r_function.py\u001b[0m in \u001b[0;36mfunction\u001b[0;34m(self)\u001b[0m\n\u001b[1;32m    107\u001b[0m             \u001b[0;32mreturn\u001b[0m \u001b[0mself\u001b[0m\u001b[0;34m.\u001b[0m\u001b[0m_function\u001b[0m\u001b[0;34m\u001b[0m\u001b[0;34m\u001b[0m\u001b[0m\n\u001b[1;32m    108\u001b[0m         \u001b[0;32mexcept\u001b[0m \u001b[0mAttributeError\u001b[0m\u001b[0;34m:\u001b[0m\u001b[0;34m\u001b[0m\u001b[0;34m\u001b[0m\u001b[0m\n\u001b[0;32m--> 109\u001b[0;31m             \u001b[0mself\u001b[0m\u001b[0;34m.\u001b[0m\u001b[0m_function\u001b[0m \u001b[0;34m=\u001b[0m \u001b[0mself\u001b[0m\u001b[0;34m.\u001b[0m\u001b[0m_build\u001b[0m\u001b[0;34m(\u001b[0m\u001b[0;34m)\u001b[0m\u001b[0;34m\u001b[0m\u001b[0;34m\u001b[0m\u001b[0m\n\u001b[0m\u001b[1;32m    110\u001b[0m             \u001b[0;32mreturn\u001b[0m \u001b[0mself\u001b[0m\u001b[0;34m.\u001b[0m\u001b[0m_function\u001b[0m\u001b[0;34m\u001b[0m\u001b[0;34m\u001b[0m\u001b[0m\n\u001b[1;32m    111\u001b[0m \u001b[0;34m\u001b[0m\u001b[0m\n",
            "\u001b[0;32m<decorator-gen-144>\u001b[0m in \u001b[0;36m_build\u001b[0;34m(self)\u001b[0m\n",
            "\u001b[0;32m/usr/local/lib/python3.7/dist-packages/scprep/utils.py\u001b[0m in \u001b[0;36m_with_pkg\u001b[0;34m(fun, pkg, min_version, *args, **kwargs)\u001b[0m\n\u001b[1;32m     78\u001b[0m         \u001b[0mcheck_version\u001b[0m\u001b[0;34m(\u001b[0m\u001b[0mpkg\u001b[0m\u001b[0;34m,\u001b[0m \u001b[0mmin_version\u001b[0m\u001b[0;34m=\u001b[0m\u001b[0mmin_version\u001b[0m\u001b[0;34m)\u001b[0m\u001b[0;34m\u001b[0m\u001b[0;34m\u001b[0m\u001b[0m\n\u001b[1;32m     79\u001b[0m         \u001b[0m__imported_pkgs\u001b[0m\u001b[0;34m.\u001b[0m\u001b[0madd\u001b[0m\u001b[0;34m(\u001b[0m\u001b[0;34m(\u001b[0m\u001b[0mpkg\u001b[0m\u001b[0;34m,\u001b[0m \u001b[0mmin_version\u001b[0m\u001b[0;34m)\u001b[0m\u001b[0;34m)\u001b[0m\u001b[0;34m\u001b[0m\u001b[0;34m\u001b[0m\u001b[0m\n\u001b[0;32m---> 80\u001b[0;31m     \u001b[0;32mreturn\u001b[0m \u001b[0mfun\u001b[0m\u001b[0;34m(\u001b[0m\u001b[0;34m*\u001b[0m\u001b[0margs\u001b[0m\u001b[0;34m,\u001b[0m \u001b[0;34m**\u001b[0m\u001b[0mkwargs\u001b[0m\u001b[0;34m)\u001b[0m\u001b[0;34m\u001b[0m\u001b[0;34m\u001b[0m\u001b[0m\n\u001b[0m\u001b[1;32m     81\u001b[0m \u001b[0;34m\u001b[0m\u001b[0m\n\u001b[1;32m     82\u001b[0m \u001b[0;34m\u001b[0m\u001b[0m\n",
            "\u001b[0;32m/usr/local/lib/python3.7/dist-packages/scprep/run/r_function.py\u001b[0m in \u001b[0;36m_build\u001b[0;34m(self)\u001b[0m\n\u001b[1;32m     91\u001b[0m         \u001b[0;32mif\u001b[0m \u001b[0mself\u001b[0m\u001b[0;34m.\u001b[0m\u001b[0msetup\u001b[0m \u001b[0;34m!=\u001b[0m \u001b[0;34m\"\"\u001b[0m\u001b[0;34m:\u001b[0m\u001b[0;34m\u001b[0m\u001b[0;34m\u001b[0m\u001b[0m\n\u001b[1;32m     92\u001b[0m             \u001b[0;32mwith\u001b[0m \u001b[0m_ConsoleWarning\u001b[0m\u001b[0;34m(\u001b[0m\u001b[0mself\u001b[0m\u001b[0;34m.\u001b[0m\u001b[0mverbose\u001b[0m \u001b[0;34m-\u001b[0m \u001b[0;36m1\u001b[0m\u001b[0;34m)\u001b[0m\u001b[0;34m:\u001b[0m\u001b[0;34m\u001b[0m\u001b[0;34m\u001b[0m\u001b[0m\n\u001b[0;32m---> 93\u001b[0;31m                 \u001b[0mrpy2\u001b[0m\u001b[0;34m.\u001b[0m\u001b[0mrobjects\u001b[0m\u001b[0;34m.\u001b[0m\u001b[0mr\u001b[0m\u001b[0;34m(\u001b[0m\u001b[0mself\u001b[0m\u001b[0;34m.\u001b[0m\u001b[0msetup\u001b[0m\u001b[0;34m)\u001b[0m\u001b[0;34m\u001b[0m\u001b[0;34m\u001b[0m\u001b[0m\n\u001b[0m\u001b[1;32m     94\u001b[0m         function_text = \"\"\"\n\u001b[1;32m     95\u001b[0m         {name} <- function({args}) {{\n",
            "\u001b[0;32m/usr/local/lib/python3.7/dist-packages/rpy2/robjects/__init__.py\u001b[0m in \u001b[0;36m__call__\u001b[0;34m(self, string)\u001b[0m\n\u001b[1;32m    436\u001b[0m     \u001b[0;32mdef\u001b[0m \u001b[0m__call__\u001b[0m\u001b[0;34m(\u001b[0m\u001b[0mself\u001b[0m\u001b[0;34m,\u001b[0m \u001b[0mstring\u001b[0m\u001b[0;34m)\u001b[0m\u001b[0;34m:\u001b[0m\u001b[0;34m\u001b[0m\u001b[0;34m\u001b[0m\u001b[0m\n\u001b[1;32m    437\u001b[0m         \u001b[0mp\u001b[0m \u001b[0;34m=\u001b[0m \u001b[0mrinterface\u001b[0m\u001b[0;34m.\u001b[0m\u001b[0mparse\u001b[0m\u001b[0;34m(\u001b[0m\u001b[0mstring\u001b[0m\u001b[0;34m)\u001b[0m\u001b[0;34m\u001b[0m\u001b[0;34m\u001b[0m\u001b[0m\n\u001b[0;32m--> 438\u001b[0;31m         \u001b[0mres\u001b[0m \u001b[0;34m=\u001b[0m \u001b[0mself\u001b[0m\u001b[0;34m.\u001b[0m\u001b[0meval\u001b[0m\u001b[0;34m(\u001b[0m\u001b[0mp\u001b[0m\u001b[0;34m)\u001b[0m\u001b[0;34m\u001b[0m\u001b[0;34m\u001b[0m\u001b[0m\n\u001b[0m\u001b[1;32m    439\u001b[0m         \u001b[0;32mreturn\u001b[0m \u001b[0mconversion\u001b[0m\u001b[0;34m.\u001b[0m\u001b[0mrpy2py\u001b[0m\u001b[0;34m(\u001b[0m\u001b[0mres\u001b[0m\u001b[0;34m)\u001b[0m\u001b[0;34m\u001b[0m\u001b[0;34m\u001b[0m\u001b[0m\n\u001b[1;32m    440\u001b[0m \u001b[0;34m\u001b[0m\u001b[0m\n",
            "\u001b[0;32m/usr/local/lib/python3.7/dist-packages/rpy2/robjects/functions.py\u001b[0m in \u001b[0;36m__call__\u001b[0;34m(self, *args, **kwargs)\u001b[0m\n\u001b[1;32m    197\u001b[0m                 \u001b[0mkwargs\u001b[0m\u001b[0;34m[\u001b[0m\u001b[0mr_k\u001b[0m\u001b[0;34m]\u001b[0m \u001b[0;34m=\u001b[0m \u001b[0mv\u001b[0m\u001b[0;34m\u001b[0m\u001b[0;34m\u001b[0m\u001b[0m\n\u001b[1;32m    198\u001b[0m         return (super(SignatureTranslatedFunction, self)\n\u001b[0;32m--> 199\u001b[0;31m                 .__call__(*args, **kwargs))\n\u001b[0m\u001b[1;32m    200\u001b[0m \u001b[0;34m\u001b[0m\u001b[0m\n\u001b[1;32m    201\u001b[0m \u001b[0;34m\u001b[0m\u001b[0m\n",
            "\u001b[0;32m/usr/local/lib/python3.7/dist-packages/rpy2/robjects/functions.py\u001b[0m in \u001b[0;36m__call__\u001b[0;34m(self, *args, **kwargs)\u001b[0m\n\u001b[1;32m    123\u001b[0m             \u001b[0;32melse\u001b[0m\u001b[0;34m:\u001b[0m\u001b[0;34m\u001b[0m\u001b[0;34m\u001b[0m\u001b[0m\n\u001b[1;32m    124\u001b[0m                 \u001b[0mnew_kwargs\u001b[0m\u001b[0;34m[\u001b[0m\u001b[0mk\u001b[0m\u001b[0;34m]\u001b[0m \u001b[0;34m=\u001b[0m \u001b[0mconversion\u001b[0m\u001b[0;34m.\u001b[0m\u001b[0mpy2rpy\u001b[0m\u001b[0;34m(\u001b[0m\u001b[0mv\u001b[0m\u001b[0;34m)\u001b[0m\u001b[0;34m\u001b[0m\u001b[0;34m\u001b[0m\u001b[0m\n\u001b[0;32m--> 125\u001b[0;31m         \u001b[0mres\u001b[0m \u001b[0;34m=\u001b[0m \u001b[0msuper\u001b[0m\u001b[0;34m(\u001b[0m\u001b[0mFunction\u001b[0m\u001b[0;34m,\u001b[0m \u001b[0mself\u001b[0m\u001b[0;34m)\u001b[0m\u001b[0;34m.\u001b[0m\u001b[0m__call__\u001b[0m\u001b[0;34m(\u001b[0m\u001b[0;34m*\u001b[0m\u001b[0mnew_args\u001b[0m\u001b[0;34m,\u001b[0m \u001b[0;34m**\u001b[0m\u001b[0mnew_kwargs\u001b[0m\u001b[0;34m)\u001b[0m\u001b[0;34m\u001b[0m\u001b[0;34m\u001b[0m\u001b[0m\n\u001b[0m\u001b[1;32m    126\u001b[0m         \u001b[0mres\u001b[0m \u001b[0;34m=\u001b[0m \u001b[0mconversion\u001b[0m\u001b[0;34m.\u001b[0m\u001b[0mrpy2py\u001b[0m\u001b[0;34m(\u001b[0m\u001b[0mres\u001b[0m\u001b[0;34m)\u001b[0m\u001b[0;34m\u001b[0m\u001b[0;34m\u001b[0m\u001b[0m\n\u001b[1;32m    127\u001b[0m         \u001b[0;32mreturn\u001b[0m \u001b[0mres\u001b[0m\u001b[0;34m\u001b[0m\u001b[0;34m\u001b[0m\u001b[0m\n",
            "\u001b[0;32m/usr/local/lib/python3.7/dist-packages/rpy2/rinterface_lib/conversion.py\u001b[0m in \u001b[0;36m_\u001b[0;34m(*args, **kwargs)\u001b[0m\n\u001b[1;32m     43\u001b[0m \u001b[0;32mdef\u001b[0m \u001b[0m_cdata_res_to_rinterface\u001b[0m\u001b[0;34m(\u001b[0m\u001b[0mfunction\u001b[0m\u001b[0;34m)\u001b[0m\u001b[0;34m:\u001b[0m\u001b[0;34m\u001b[0m\u001b[0;34m\u001b[0m\u001b[0m\n\u001b[1;32m     44\u001b[0m     \u001b[0;32mdef\u001b[0m \u001b[0m_\u001b[0m\u001b[0;34m(\u001b[0m\u001b[0;34m*\u001b[0m\u001b[0margs\u001b[0m\u001b[0;34m,\u001b[0m \u001b[0;34m**\u001b[0m\u001b[0mkwargs\u001b[0m\u001b[0;34m)\u001b[0m\u001b[0;34m:\u001b[0m\u001b[0;34m\u001b[0m\u001b[0;34m\u001b[0m\u001b[0m\n\u001b[0;32m---> 45\u001b[0;31m         \u001b[0mcdata\u001b[0m \u001b[0;34m=\u001b[0m \u001b[0mfunction\u001b[0m\u001b[0;34m(\u001b[0m\u001b[0;34m*\u001b[0m\u001b[0margs\u001b[0m\u001b[0;34m,\u001b[0m \u001b[0;34m**\u001b[0m\u001b[0mkwargs\u001b[0m\u001b[0;34m)\u001b[0m\u001b[0;34m\u001b[0m\u001b[0;34m\u001b[0m\u001b[0m\n\u001b[0m\u001b[1;32m     46\u001b[0m         \u001b[0;31m# TODO: test cdata is of the expected CType\u001b[0m\u001b[0;34m\u001b[0m\u001b[0;34m\u001b[0m\u001b[0;34m\u001b[0m\u001b[0m\n\u001b[1;32m     47\u001b[0m         \u001b[0;32mreturn\u001b[0m \u001b[0m_cdata_to_rinterface\u001b[0m\u001b[0;34m(\u001b[0m\u001b[0mcdata\u001b[0m\u001b[0;34m)\u001b[0m\u001b[0;34m\u001b[0m\u001b[0;34m\u001b[0m\u001b[0m\n",
            "\u001b[0;32m/usr/local/lib/python3.7/dist-packages/rpy2/rinterface.py\u001b[0m in \u001b[0;36m__call__\u001b[0;34m(self, *args, **kwargs)\u001b[0m\n\u001b[1;32m    678\u001b[0m             )\n\u001b[1;32m    679\u001b[0m             \u001b[0;32mif\u001b[0m \u001b[0merror_occured\u001b[0m\u001b[0;34m[\u001b[0m\u001b[0;36m0\u001b[0m\u001b[0;34m]\u001b[0m\u001b[0;34m:\u001b[0m\u001b[0;34m\u001b[0m\u001b[0;34m\u001b[0m\u001b[0m\n\u001b[0;32m--> 680\u001b[0;31m                 \u001b[0;32mraise\u001b[0m \u001b[0membedded\u001b[0m\u001b[0;34m.\u001b[0m\u001b[0mRRuntimeError\u001b[0m\u001b[0;34m(\u001b[0m\u001b[0m_rinterface\u001b[0m\u001b[0;34m.\u001b[0m\u001b[0m_geterrmessage\u001b[0m\u001b[0;34m(\u001b[0m\u001b[0;34m)\u001b[0m\u001b[0;34m)\u001b[0m\u001b[0;34m\u001b[0m\u001b[0;34m\u001b[0m\u001b[0m\n\u001b[0m\u001b[1;32m    681\u001b[0m         \u001b[0;32mreturn\u001b[0m \u001b[0mres\u001b[0m\u001b[0;34m\u001b[0m\u001b[0;34m\u001b[0m\u001b[0m\n\u001b[1;32m    682\u001b[0m \u001b[0;34m\u001b[0m\u001b[0m\n",
            "\u001b[0;31mRRuntimeError\u001b[0m: Error in library(\"scran\") : there is no package called ‘scran’\n"
          ]
        }
      ]
    },
    {
      "cell_type": "markdown",
      "metadata": {
        "id": "wBcfBRk4gSCz"
      },
      "source": [
        "# **alignment score for procrustes**"
      ]
    },
    {
      "cell_type": "code",
      "metadata": {
        "id": "ILhMo2ljgDpK"
      },
      "source": [
        "def plot_procrustes_knn(params_range):\n",
        "  test_scicar_data = subset_joint_data(scicar_data)\n",
        "  knn_scores = [0.0] * len(params_range)\n",
        "  for i, n_svd in enumerate(params_range):\n",
        "    test_scicar = test_scicar_data.copy()\n",
        "    procrustes(test_scicar, n_svd = n_svd)\n",
        "    knn_score = knn_auc(test_scicar, n_svd = n_svd)\n",
        "    knn_scores[i] = knn_score\n",
        "  plt.xlabel(\"n_svd\")\n",
        "  plt.ylabel(\"knn score\")\n",
        "  plt.plot(params_range, knn_scores)\n",
        "  plt.show()"
      ],
      "execution_count": null,
      "outputs": []
    },
    {
      "cell_type": "code",
      "metadata": {
        "id": "CXt4Unlnmtt3"
      },
      "source": [
        "test_scicar_data = subset_joint_data(scicar_data)\n",
        "procrustes(test_scicar_data, n_svd = 150)\n",
        "knn_auc(test_scicar_data, n_svd=150)"
      ],
      "execution_count": null,
      "outputs": []
    },
    {
      "cell_type": "code",
      "metadata": {
        "colab": {
          "base_uri": "https://localhost:8080/",
          "height": 280
        },
        "id": "M9tHSmujkw7P",
        "outputId": "0249cc8b-588f-47aa-db22-8a34fc5d1ec9"
      },
      "source": [
        "plot_procrustes_knn(range(50, 400))"
      ],
      "execution_count": null,
      "outputs": [
        {
          "output_type": "display_data",
          "data": {
            "image/png": "[encoded data removed]",
            "text/plain": [
              "<Figure size 432x288 with 1 Axes>"
            ]
          },
          "metadata": {
            "tags": [],
            "needs_background": "light"
          }
        }
      ]
    },
    {
      "cell_type": "code",
      "metadata": {
        "id": "0LFEBScjW5Bu",
        "colab": {
          "base_uri": "https://localhost:8080/"
        },
        "outputId": "cfc12b9e-54af-44ba-e260-edb3aad925f1"
      },
      "source": [
        "#alignment score when using 150 as hidden dimension\n",
        "procrustes(test_scicar_data)\n",
        "print(knn_auc(test_scicar_data))\n",
        "print(mse(test_scicar_data))"
      ],
      "execution_count": null,
      "outputs": [
        {
          "output_type": "stream",
          "text": [
            "0.0006666229889859364\n",
            "0.7517596519290228\n"
          ],
          "name": "stdout"
        }
      ]
    },
    {
      "cell_type": "markdown",
      "metadata": {
        "id": "0QQEAoJSryxO"
      },
      "source": [
        "# **alignment score for harmonic alignment**"
      ]
    },
    {
      "cell_type": "code",
      "metadata": {
        "colab": {
          "base_uri": "https://localhost:8080/",
          "height": 198
        },
        "id": "uWyL0JUir8Pv",
        "outputId": "3881d8e1-6b93-4518-b1f1-7dc4da3705b1"
      },
      "source": [
        "harmonic_alignment_sqrt_cpm(test_scicar_data)\n",
        "print(knn_auc(test_scicar_data))\n",
        "print(mse(test_scicar_data))"
      ],
      "execution_count": 57,
      "outputs": [
        {
          "output_type": "error",
          "ename": "NameError",
          "evalue": "ignored",
          "traceback": [
            "\u001b[0;31m---------------------------------------------------------------------------\u001b[0m",
            "\u001b[0;31mNameError\u001b[0m                                 Traceback (most recent call last)",
            "\u001b[0;32m<ipython-input-57-7f78ec3b81a6>\u001b[0m in \u001b[0;36m<module>\u001b[0;34m()\u001b[0m\n\u001b[0;32m----> 1\u001b[0;31m \u001b[0mharmonic_alignment_sqrt_cpm\u001b[0m\u001b[0;34m(\u001b[0m\u001b[0mtest_scicar_data\u001b[0m\u001b[0;34m)\u001b[0m\u001b[0;34m\u001b[0m\u001b[0;34m\u001b[0m\u001b[0m\n\u001b[0m\u001b[1;32m      2\u001b[0m \u001b[0mprint\u001b[0m\u001b[0;34m(\u001b[0m\u001b[0mknn_auc\u001b[0m\u001b[0;34m(\u001b[0m\u001b[0mtest_scicar_data\u001b[0m\u001b[0;34m)\u001b[0m\u001b[0;34m)\u001b[0m\u001b[0;34m\u001b[0m\u001b[0;34m\u001b[0m\u001b[0m\n\u001b[1;32m      3\u001b[0m \u001b[0mprint\u001b[0m\u001b[0;34m(\u001b[0m\u001b[0mmse\u001b[0m\u001b[0;34m(\u001b[0m\u001b[0mtest_scicar_data\u001b[0m\u001b[0;34m)\u001b[0m\u001b[0;34m)\u001b[0m\u001b[0;34m\u001b[0m\u001b[0;34m\u001b[0m\u001b[0m\n",
            "\u001b[0;31mNameError\u001b[0m: name 'harmonic_alignment_sqrt_cpm' is not defined"
          ]
        }
      ]
    },
    {
      "cell_type": "markdown",
      "metadata": {
        "id": "wGRVgf6RFKwV"
      },
      "source": [
        "# **alignment score for scot**"
      ]
    },
    {
      "cell_type": "code",
      "metadata": {
        "colab": {
          "base_uri": "https://localhost:8080/"
        },
        "id": "vWhEnsS7Fai1",
        "outputId": "4b017b24-3827-4817-d46f-c50769d3abeb"
      },
      "source": [
        "test_scicar_data = subset_joint_data(scicar_data)\n",
        "scot_sqrt_cpm_balanced(test_scicar_data)\n",
        "print(knn_auc(test_scicar_data))\n",
        "print(mse(test_scicar_data))"
      ],
      "execution_count": 68,
      "outputs": [
        {
          "output_type": "stream",
          "text": [
            "It.  |Err         \n",
            "-------------------\n",
            "    0|1.963694e-03|\n",
            "   10|3.083303e-03|\n",
            "   20|2.974509e-03|\n",
            "   30|1.688391e-03|\n",
            "   40|1.171969e-03|\n",
            "   50|5.114249e-04|\n",
            "   60|5.113359e-04|\n",
            "   70|4.086603e-04|\n",
            "   80|4.126100e-04|\n",
            "   90|5.549208e-04|\n",
            "  100|2.607456e-04|\n",
            "  110|3.051702e-04|\n",
            "  120|2.449237e-04|\n",
            "  130|1.332487e-04|\n",
            "  140|2.287277e-04|\n",
            "  150|1.501480e-04|\n",
            "  160|1.151915e-04|\n",
            "  170|1.979953e-04|\n",
            "  180|1.309522e-04|\n",
            "  190|6.226984e-05|\n",
            "It.  |Err         \n",
            "-------------------\n",
            "  200|6.057074e-05|\n",
            "  210|7.602713e-05|\n",
            "  220|6.124313e-05|\n",
            "  230|3.531016e-05|\n",
            "  240|3.548595e-05|\n",
            "  250|6.718757e-05|\n",
            "  260|1.231954e-04|\n",
            "  270|2.041685e-04|\n",
            "  280|1.163106e-04|\n",
            "  290|3.782405e-04|\n",
            "  300|2.971809e-04|\n",
            "  310|4.319390e-04|\n",
            "  320|7.637726e-05|\n",
            "  330|3.596583e-05|\n",
            "  340|1.872889e-05|\n",
            "  350|1.082439e-05|\n",
            "  360|7.250256e-06|\n",
            "  370|5.569596e-06|\n",
            "  380|4.772585e-06|\n",
            "  390|4.456574e-06|\n",
            "It.  |Err         \n",
            "-------------------\n",
            "  400|4.467110e-06|\n",
            "  410|4.766854e-06|\n",
            "  420|5.394867e-06|\n",
            "  430|6.466904e-06|\n",
            "  440|8.200391e-06|\n",
            "  450|1.093852e-05|\n",
            "  460|1.503349e-05|\n",
            "  470|2.003691e-05|\n",
            "  480|2.264019e-05|\n",
            "  490|1.826746e-05|\n",
            "  500|1.021329e-05|\n",
            "  510|4.569935e-06|\n",
            "  520|1.876024e-06|\n",
            "  530|7.527111e-07|\n",
            "  540|3.014782e-07|\n",
            "  550|1.213371e-07|\n",
            "  560|4.927757e-08|\n",
            "  570|2.033967e-08|\n",
            "  580|8.655588e-09|\n",
            "  590|3.888205e-09|\n",
            "It.  |Err         \n",
            "-------------------\n",
            "  600|1.891739e-09|\n",
            "  610|1.005756e-09|\n",
            "  620|5.745855e-10|\n",
            "[array([[ 0.68990138, -0.01577826, -0.04327071, ..., -0.03214986,\n",
            "        -0.03700296, -0.03523761],\n",
            "       [ 0.62603815, -0.09585995,  0.18975528, ..., -0.12143319,\n",
            "         0.06340624, -0.01197855],\n",
            "       [ 0.62211512, -0.18008807,  0.05819824, ..., -0.04465377,\n",
            "        -0.04107532,  0.09273621],\n",
            "       ...,\n",
            "       [ 0.47317377,  0.00379304, -0.00478953, ...,  0.00243341,\n",
            "        -0.0327674 ,  0.04132192],\n",
            "       [ 0.37485774, -0.0639286 ,  0.41324684, ..., -0.01537766,\n",
            "        -0.02835173,  0.03805093],\n",
            "       [ 0.59511531,  0.03664639,  0.00285919, ...,  0.09678709,\n",
            "        -0.01441677,  0.10257117]])]\n",
            "0.0005206019331516786\n",
            "0.9862237657139624\n"
          ],
          "name": "stdout"
        }
      ]
    }
  ]
}