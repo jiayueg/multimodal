{
 "cells": [
  {
   "cell_type": "code",
   "execution_count": 1,
   "metadata": {
    "id": "N7fApNF7xjy3"
   },
   "outputs": [],
   "source": [
    "%%capture\n",
    "!pip install scprep\n",
    "!pip install anndata\n",
    "!pip install scanpy"
   ]
  },
  {
   "cell_type": "code",
   "execution_count": 2,
   "metadata": {
    "id": "-L0n8_rB7gPQ"
   },
   "outputs": [],
   "source": [
    "import numpy as np\n",
    "import pandas as pd\n",
    "import anndata\n",
    "import scprep\n",
    "import scanpy as sc\n",
    "import sklearn\n",
    "from sklearn.model_selection import train_test_split\n",
    "import tempfile\n",
    "import os\n",
    "import inspect\n",
    "import sys\n",
    "import scipy\n",
    "from scipy import sparse\n",
    "\n",
    "import torch\n",
    "import torch.nn as nn\n",
    "from torch import optim\n",
    "from torch.autograd import Variable\n",
    "from torch.utils.data import Dataset, DataLoader\n",
    "from torch.utils.data import random_split\n",
    "\n",
    "import matplotlib.pyplot as plt\n",
    "import load_raw\n",
    "import normalize_tools as nm\n",
    "import metrics"
   ]
  },
  {
   "cell_type": "markdown",
   "metadata": {
    "id": "xIaWncv9FRlG"
   },
   "source": [
    "# **try out with scicar cell lines dataset**"
   ]
  },
  {
   "cell_type": "markdown",
   "metadata": {
    "id": "1kdBrFDRFj-x"
   },
   "source": [
    "**1. URLs for raw data**"
   ]
  },
  {
   "cell_type": "code",
   "execution_count": 3,
   "metadata": {},
   "outputs": [],
   "source": [
    "rna_data, atac_data, rna_cells, atac_cells, rna_genes, atac_genes = load_raw.load_raw_cell_lines()"
   ]
  },
  {
   "cell_type": "markdown",
   "metadata": {
    "id": "XcF3DwMRMGPl"
   },
   "source": [
    " **2. select the joint sub-datasets and store them into csv files**"
   ]
  },
  {
   "cell_type": "code",
   "execution_count": 4,
   "metadata": {
    "id": "vmgqCzKUTtpo"
   },
   "outputs": [],
   "source": [
    "scicar_data, joint_index, keep_cells_idx = load_raw.merge_data(rna_data, atac_data, rna_cells, atac_cells, rna_genes, atac_genes)\n",
    "#rna_df, atac_df = ann2df(scicar_data)"
   ]
  },
  {
   "cell_type": "code",
   "execution_count": 5,
   "metadata": {
    "colab": {
     "base_uri": "https://localhost:8080/"
    },
    "id": "UFo3UdoSYwb6",
    "outputId": "533c6482-2488-44a4-bd0a-39e12e752987"
   },
   "outputs": [
    {
     "name": "stdout",
     "output_type": "stream",
     "text": [
      "AnnData object with n_obs × n_vars = 4739 × 60550\n",
      "    obs: 'cell_name', 'experiment', 'treatment_time', 'source', 'group'\n",
      "    var: 'gene_type', 'gene_short_name', 'n_counts'\n",
      "    uns: 'mode2_obs', 'mode2_var', 'mode2_varnames', 'mode2_var_id', 'mode2_var_chr', 'mode2_var_start', 'mode2_var_end'\n",
      "    obsm: 'mode2'\n"
     ]
    }
   ],
   "source": [
    "print(scicar_data)"
   ]
  },
  {
   "cell_type": "code",
   "execution_count": 6,
   "metadata": {
    "id": "iQEUCjmiYKgZ"
   },
   "outputs": [],
   "source": [
    "test_scicar_data = load_raw.subset_joint_data(scicar_data)"
   ]
  },
  {
   "cell_type": "markdown",
   "metadata": {
    "id": "vf_DRpw9mxcV"
   },
   "source": [
    "# **Procrustes**"
   ]
  },
  {
   "cell_type": "code",
   "execution_count": 7,
   "metadata": {
    "id": "TLi3TZRJmw7A"
   },
   "outputs": [],
   "source": [
    "def procrustes(adata, n_svd=100):\n",
    "    n_svd = min([n_svd, min(adata.X.shape)-1, min(adata.obsm[\"mode2\"].shape)-1])\n",
    "    nm.log_cpm(adata)\n",
    "    nm.log_cpm(adata, obsm=\"mode2\", obs=\"mode2_obs\", var=\"mode2_var\")\n",
    "    X_pca = sklearn.decomposition.TruncatedSVD(n_svd).fit_transform(adata.X)\n",
    "    Y_pca = sklearn.decomposition.TruncatedSVD(n_svd).fit_transform(adata.obsm[\"mode2\"])\n",
    "    X_proc, Y_proc, _ = scipy.spatial.procrustes(X_pca, Y_pca)\n",
    "    adata.obsm[\"aligned\"] = X_proc\n",
    "    adata.obsm[\"mode2_aligned\"] = Y_proc\n",
    "    return adata"
   ]
  },
  {
   "cell_type": "code",
   "execution_count": 8,
   "metadata": {},
   "outputs": [],
   "source": [
    "def procrustes_split(train_data, test_data, n_svd=100):\n",
    "    n_svd = min([n_svd, min(train_data.X.shape)-1, min(train_data.obsm[\"mode2\"].shape)-1])\n",
    "    nm.log_cpm(train_data)\n",
    "    nm.log_cpm(train_data, obsm=\"mode2\", obs=\"mode2_obs\", var=\"mode2_var\")\n",
    "    X_pca = sklearn.decomposition.TruncatedSVD(n_svd).fit(train_data.X).transform(test_data.X)\n",
    "    Y_pca = sklearn.decomposition.TruncatedSVD(n_svd).fit(train_data.obsm[\"mode2\"]).transform(test_data.obsm[\"mode2\"])\n",
    "    \n",
    "    X_proc, Y_proc, _ = scipy.spatial.procrustes(X_pca, Y_pca)\n",
    "    test_data.obsm[\"aligned\"] = X_proc\n",
    "    test_data.obsm[\"mode2_aligned\"] = Y_proc\n",
    "    return test_data"
   ]
  },
  {
   "cell_type": "markdown",
   "metadata": {
    "id": "kxPGCs7scRQo"
   },
   "source": [
    "# **Harmonic Alignment**"
   ]
  },
  {
   "cell_type": "code",
   "execution_count": 26,
   "metadata": {
    "colab": {
     "base_uri": "https://localhost:8080/"
    },
    "id": "hgP9wXkBi-Cz",
    "outputId": "e11cea96-9592-4928-cdd3-699b8c2cd9d3"
   },
   "outputs": [
    {
     "name": "stdout",
     "output_type": "stream",
     "text": [
      "Collecting git+https://github.com/KrishnaswamyLab/harmonic-alignment#subdirectory=python\n",
      "  Cloning https://github.com/KrishnaswamyLab/harmonic-alignment to /tmp/pip-req-build-3axcu8k6\n",
      "Requirement already satisfied: numpy>=1.14.0 in /home/jiayueg/miniconda3/lib/python3.8/site-packages (from harmonicalignment==0.0) (1.21.0)\n",
      "Requirement already satisfied: scipy>=1.1.0 in /home/jiayueg/miniconda3/lib/python3.8/site-packages (from harmonicalignment==0.0) (1.7.0)\n",
      "Collecting pygsp>=>=0.5.1\n",
      "  Downloading PyGSP-0.5.1-py2.py3-none-any.whl (1.8 MB)\n",
      "\u001b[K     |████████████████████████████████| 1.8 MB 6.9 MB/s eta 0:00:01\n",
      "\u001b[?25hRequirement already satisfied: scikit-learn>=0.20.0 in /home/jiayueg/miniconda3/lib/python3.8/site-packages (from harmonicalignment==0.0) (0.24.2)\n",
      "Collecting future\n",
      "  Downloading future-0.18.2.tar.gz (829 kB)\n",
      "\u001b[K     |████████████████████████████████| 829 kB 28.6 MB/s eta 0:00:01\n",
      "\u001b[?25hCollecting tasklogger>=0.4.0\n",
      "  Downloading tasklogger-1.1.0-py3-none-any.whl (15 kB)\n",
      "Collecting graphtools>=0.2.1\n",
      "  Downloading graphtools-1.5.2-py3-none-any.whl (45 kB)\n",
      "\u001b[K     |████████████████████████████████| 45 kB 6.3 MB/s  eta 0:00:01\n",
      "\u001b[?25hRequirement already satisfied: joblib in /home/jiayueg/miniconda3/lib/python3.8/site-packages (from harmonicalignment==0.0) (1.0.1)\n",
      "Requirement already satisfied: threadpoolctl>=2.0.0 in /home/jiayueg/miniconda3/lib/python3.8/site-packages (from scikit-learn>=0.20.0->harmonicalignment==0.0) (2.2.0)\n",
      "Collecting Deprecated\n",
      "  Downloading Deprecated-1.2.12-py2.py3-none-any.whl (9.5 kB)\n",
      "Collecting wrapt<2,>=1.10\n",
      "  Downloading wrapt-1.12.1.tar.gz (27 kB)\n",
      "Building wheels for collected packages: harmonicalignment, future, wrapt\n",
      "  Building wheel for harmonicalignment (setup.py) ... \u001b[?25ldone\n",
      "\u001b[?25h  Created wheel for harmonicalignment: filename=harmonicalignment-0.0-py3-none-any.whl size=16722 sha256=3c5fb8372c716d41d90a0c00b66d8a3085ec342105ecaffd249f4d87fbdb3164\n",
      "  Stored in directory: /tmp/pip-ephem-wheel-cache-367mq9vl/wheels/cb/4a/4d/f8801b90905a457232c488d735da80d7008965523569950d3f\n",
      "  Building wheel for future (setup.py) ... \u001b[?25ldone\n",
      "\u001b[?25h  Created wheel for future: filename=future-0.18.2-py3-none-any.whl size=491059 sha256=67e37eb62a5180a1f89eef4ab90d7c5e4dba758bd2d8546ce5b4d76b69279a0e\n",
      "  Stored in directory: /home/jiayueg/.cache/pip/wheels/8e/70/28/3d6ccd6e315f65f245da085482a2e1c7d14b90b30f239e2cf4\n",
      "  Building wheel for wrapt (setup.py) ... \u001b[?25ldone\n",
      "\u001b[?25h  Created wheel for wrapt: filename=wrapt-1.12.1-cp38-cp38-linux_x86_64.whl size=72381 sha256=4069946d84ab0845ece5ce54f33e9e337eb24245bd25027f8c39614c6089fc44\n",
      "  Stored in directory: /home/jiayueg/.cache/pip/wheels/5f/fd/9e/b6cf5890494cb8ef0b5eaff72e5d55a70fb56316007d6dfe73\n",
      "Successfully built harmonicalignment future wrapt\n",
      "Installing collected packages: pygsp, future, wrapt, Deprecated, tasklogger, graphtools, harmonicalignment\n",
      "Successfully installed Deprecated-1.2.12 future-0.18.2 graphtools-1.5.2 harmonicalignment-0.0 pygsp-0.5.1 tasklogger-1.1.0 wrapt-1.12.1\n"
     ]
    }
   ],
   "source": [
    "!pip install --user git+https://github.com/KrishnaswamyLab/harmonic-alignment#subdirectory=python"
   ]
  },
  {
   "cell_type": "code",
   "execution_count": 1,
   "metadata": {
    "id": "EX4sceebslBu"
   },
   "outputs": [],
   "source": [
    "import harmonicalignment"
   ]
  },
  {
   "cell_type": "code",
   "execution_count": 25,
   "metadata": {
    "id": "F_OgL3Z8cQtR"
   },
   "outputs": [],
   "source": [
    "#sqrt CPM version\n",
    "\n",
    "def harmonic_alignment_sqrt_cpm(adata, n_eigenvectors=100, n_svd=100, n_pca_XY=100):\n",
    "    sqrt_cpm(adata)\n",
    "    log_cpm(adata)\n",
    "    n_svd = min([n_svd, min(adata.X.shape)-1, min(adata.obsm[\"mode2\"].shape)-1])\n",
    "    if adata.X.shape[0] <= n_eigenvectors:\n",
    "        n_eigenvectors = None\n",
    "    if adata.X.shape[0] <= n_pca_XY:\n",
    "        n_pca_XY = None\n",
    "    X_pca = sklearn.decomposition.TruncatedSVD(n_svd).fit_transform(adata.X)\n",
    "    Y_pca = sklearn.decomposition.TruncatedSVD(n_svd).fit_transform(adata.obsm[\"mode2\"])\n",
    "    ha_op = harmonicalignment.HarmonicAlignment(\n",
    "        n_filters=8, n_pca_XY=n_pca_XY, n_eigenvectors=n_eigenvectors\n",
    "    )\n",
    "    ha_op.align(X_pca, Y_pca)\n",
    "    XY_aligned = ha_op.diffusion_map(n_eigenvectors=n_eigenvectors)\n",
    "    adata.obsm[\"aligned\"] = XY_aligned[: X_pca.shape[0]]\n",
    "    adata.obsm[\"mode2_aligned\"] = XY_aligned[X_pca.shape[0] :]\n",
    "    return adata"
   ]
  },
  {
   "cell_type": "markdown",
   "metadata": {
    "id": "V72J8bpXwvrJ"
   },
   "source": [
    "# **Scot Alignment**"
   ]
  },
  {
   "cell_type": "code",
   "execution_count": 26,
   "metadata": {
    "colab": {
     "base_uri": "https://localhost:8080/"
    },
    "id": "5IVYLPeO4XpO",
    "outputId": "231e2382-3430-4ee5-83f2-a5acbb544aaa"
   },
   "outputs": [
    {
     "name": "stdout",
     "output_type": "stream",
     "text": [
      "Cloning into 'SCOT'...\n",
      "remote: Enumerating objects: 934, done.\u001b[K\n",
      "remote: Counting objects: 100% (188/188), done.\u001b[K\n",
      "remote: Compressing objects: 100% (136/136), done.\u001b[K\n",
      "remote: Total 934 (delta 108), reused 115 (delta 52), pack-reused 746\u001b[K\n",
      "Receiving objects: 100% (934/934), 110.15 MiB | 41.75 MiB/s, done.\n",
      "Resolving deltas: 100% (473/473), done.\n",
      "Checking out files: 100% (86/86), done.\n"
     ]
    }
   ],
   "source": [
    "!git clone https://github.com/rsinghlab/SCOT.git"
   ]
  },
  {
   "cell_type": "code",
   "execution_count": 27,
   "metadata": {
    "colab": {
     "base_uri": "https://localhost:8080/"
    },
    "id": "-iJylJ3A9zGF",
    "outputId": "ff567503-5653-4381-c940-bc51458169ac"
   },
   "outputs": [
    {
     "name": "stdout",
     "output_type": "stream",
     "text": [
      "Collecting POT\n",
      "  Downloading POT-0.7.0-cp38-cp38-manylinux2010_x86_64.whl (455 kB)\n",
      "\u001b[K     |████████████████████████████████| 455 kB 5.4 MB/s eta 0:00:01\n",
      "\u001b[?25hCollecting cython>=0.23\n",
      "  Downloading Cython-0.29.24-cp38-cp38-manylinux1_x86_64.whl (1.9 MB)\n",
      "\u001b[K     |████████████████████████████████| 1.9 MB 97.4 MB/s eta 0:00:01\n",
      "\u001b[?25hRequirement already satisfied: numpy>=1.16 in /home/jiayueg/miniconda3/lib/python3.8/site-packages (from POT) (1.21.0)\n",
      "Requirement already satisfied: scipy>=1.0 in /home/jiayueg/miniconda3/lib/python3.8/site-packages (from POT) (1.7.0)\n",
      "Installing collected packages: cython, POT\n",
      "Successfully installed POT-0.7.0 cython-0.29.24\n",
      "Collecting matlab\n",
      "  Downloading matlab-0.1.tar.gz (538 bytes)\n",
      "Building wheels for collected packages: matlab\n",
      "  Building wheel for matlab (setup.py) ... \u001b[?25ldone\n",
      "\u001b[?25h  Created wheel for matlab: filename=matlab-0.1-py3-none-any.whl size=1179 sha256=769cae883ffcfe6630f0c62890dc8459a19b1ac94cf00a093d274e274a827917\n",
      "  Stored in directory: /home/jiayueg/.cache/pip/wheels/9d/e3/ca/f9444a09793775674f6d6c3389b6192c72eff2503085389009\n",
      "Successfully built matlab\n",
      "Installing collected packages: matlab\n",
      "Successfully installed matlab-0.1\n",
      "Requirement already satisfied: cython in /home/jiayueg/miniconda3/lib/python3.8/site-packages (0.29.24)\n"
     ]
    }
   ],
   "source": [
    "!pip install POT\n",
    "!pip install matlab\n",
    "!pip install cython"
   ]
  },
  {
   "cell_type": "code",
   "execution_count": 28,
   "metadata": {
    "id": "5QPMqc7P5ej-"
   },
   "outputs": [],
   "source": [
    "sys.path.insert(1, \"./SCOT/src\")\n",
    "import scot2\n",
    "from scot2 import SCOT"
   ]
  },
  {
   "cell_type": "code",
   "execution_count": 29,
   "metadata": {
    "id": "oeiau9OTy2Bc"
   },
   "outputs": [],
   "source": [
    "def _scot(adata, n_svd=100, balanced=False):\n",
    "    n_svd = min(n_svd, min(adata.X.shape)-1, min(adata.obsm[\"mode2\"].shape)-1)\n",
    "    X_pca = sklearn.decomposition.TruncatedSVD(n_svd).fit_transform(adata.X)\n",
    "    Y_pca = sklearn.decomposition.TruncatedSVD(n_svd).fit_transform(adata.obsm[\"mode2\"])\n",
    "  \n",
    "    scot_new = SCOT(X_pca, Y_pca)\n",
    "    x_new_unbal, y_new_unbal = scot_new.align(\n",
    "        k=50, e=1e-3, rho=0.0005, normalize=True, balanced=balanced\n",
    "    )\n",
    "    adata.obsm[\"aligned\"] = np.array(x_new_unbal).squeeze()\n",
    "    adata.obsm[\"mode2_aligned\"] = np.array(y_new_unbal).squeeze()\n",
    "    return adata"
   ]
  },
  {
   "cell_type": "code",
   "execution_count": 30,
   "metadata": {
    "id": "XL1JwQQxExOr"
   },
   "outputs": [],
   "source": [
    "#unbalanced method produces NaN for some reasons\n",
    "def scot_sqrt_cpm_unbalanced(adata, n_svd=100, balanced=False):\n",
    "    sqrt_cpm(adata)\n",
    "    log_cpm(adata, obsm=\"mode2\", obs=\"mode2_obs\", var=\"mode2_var\")\n",
    "    _scot(adata, n_svd=n_svd, balanced=balanced)\n",
    "    return adata\n",
    "\n",
    "def scot_sqrt_cpm_balanced(adata, n_svd=100, balanced=True):\n",
    "    sqrt_cpm(adata)\n",
    "    log_cpm(adata, obsm=\"mode2\", obs=\"mode2_obs\", var=\"mode2_var\")\n",
    "    _scot(adata, n_svd=n_svd, balanced=balanced)\n",
    "    return adata"
   ]
  },
  {
   "cell_type": "markdown",
   "metadata": {
    "id": "txjCsdw-5Y-k"
   },
   "source": [
    "# **Store Scicar Dataset to h5ad File**"
   ]
  },
  {
   "cell_type": "code",
   "execution_count": 23,
   "metadata": {
    "colab": {
     "base_uri": "https://localhost:8080/"
    },
    "id": "Cn-EWEUP5i9t",
    "outputId": "49e090ea-3a51-44e5-a5b0-96a4bc6a9122"
   },
   "outputs": [
    {
     "name": "stdout",
     "output_type": "stream",
     "text": [
      "Mounted at /gdrive\n"
     ]
    }
   ],
   "source": [
    "from google.colab import drive\n",
    "drive.mount(\"/gdrive\")"
   ]
  },
  {
   "cell_type": "code",
   "execution_count": null,
   "metadata": {
    "colab": {
     "base_uri": "https://localhost:8080/",
     "height": 528
    },
    "id": "fM89hQET5X3w",
    "outputId": "4fb9345f-188e-4f3b-9b16-1c7887f7c3e3"
   },
   "outputs": [
    {
     "name": "stderr",
     "output_type": "stream",
     "text": [
      "... storing 'cell_name' as categorical\n",
      "... storing 'experiment' as categorical\n",
      "... storing 'source' as categorical\n",
      "... storing 'group' as categorical\n",
      "... storing 'gene_type' as categorical\n",
      "... storing 'gene_short_name' as categorical\n"
     ]
    },
    {
     "ename": "OSError",
     "evalue": "ignored",
     "output_type": "error",
     "traceback": [
      "\u001b[0;31m---------------------------------------------------------------------------\u001b[0m",
      "\u001b[0;31mOSError\u001b[0m                                   Traceback (most recent call last)",
      "\u001b[0;32m<ipython-input-32-64c29c6565c9>\u001b[0m in \u001b[0;36m<module>\u001b[0;34m()\u001b[0m\n\u001b[0;32m----> 1\u001b[0;31m \u001b[0mscicar_data\u001b[0m\u001b[0;34m.\u001b[0m\u001b[0mwrite_h5ad\u001b[0m\u001b[0;34m(\u001b[0m\u001b[0;34m\"/gdrive/My Drive/scicar_data.h5ad\"\u001b[0m\u001b[0;34m)\u001b[0m\u001b[0;34m\u001b[0m\u001b[0;34m\u001b[0m\u001b[0m\n\u001b[0m",
      "\u001b[0;32m/usr/local/lib/python3.7/dist-packages/anndata/_core/anndata.py\u001b[0m in \u001b[0;36mwrite_h5ad\u001b[0;34m(self, filename, compression, compression_opts, force_dense, as_dense)\u001b[0m\n\u001b[1;32m   1909\u001b[0m             \u001b[0mcompression_opts\u001b[0m\u001b[0;34m=\u001b[0m\u001b[0mcompression_opts\u001b[0m\u001b[0;34m,\u001b[0m\u001b[0;34m\u001b[0m\u001b[0;34m\u001b[0m\u001b[0m\n\u001b[1;32m   1910\u001b[0m             \u001b[0mforce_dense\u001b[0m\u001b[0;34m=\u001b[0m\u001b[0mforce_dense\u001b[0m\u001b[0;34m,\u001b[0m\u001b[0;34m\u001b[0m\u001b[0;34m\u001b[0m\u001b[0m\n\u001b[0;32m-> 1911\u001b[0;31m             \u001b[0mas_dense\u001b[0m\u001b[0;34m=\u001b[0m\u001b[0mas_dense\u001b[0m\u001b[0;34m,\u001b[0m\u001b[0;34m\u001b[0m\u001b[0;34m\u001b[0m\u001b[0m\n\u001b[0m\u001b[1;32m   1912\u001b[0m         )\n\u001b[1;32m   1913\u001b[0m \u001b[0;34m\u001b[0m\u001b[0m\n",
      "\u001b[0;32m/usr/local/lib/python3.7/dist-packages/anndata/_io/h5ad.py\u001b[0m in \u001b[0;36mwrite_h5ad\u001b[0;34m(filepath, adata, force_dense, as_dense, dataset_kwargs, **kwargs)\u001b[0m\n\u001b[1;32m     91\u001b[0m     \u001b[0;32mif\u001b[0m \u001b[0madata\u001b[0m\u001b[0;34m.\u001b[0m\u001b[0misbacked\u001b[0m\u001b[0;34m:\u001b[0m  \u001b[0;31m# close so that we can reopen below\u001b[0m\u001b[0;34m\u001b[0m\u001b[0;34m\u001b[0m\u001b[0m\n\u001b[1;32m     92\u001b[0m         \u001b[0madata\u001b[0m\u001b[0;34m.\u001b[0m\u001b[0mfile\u001b[0m\u001b[0;34m.\u001b[0m\u001b[0mclose\u001b[0m\u001b[0;34m(\u001b[0m\u001b[0;34m)\u001b[0m\u001b[0;34m\u001b[0m\u001b[0;34m\u001b[0m\u001b[0m\n\u001b[0;32m---> 93\u001b[0;31m     \u001b[0;32mwith\u001b[0m \u001b[0mh5py\u001b[0m\u001b[0;34m.\u001b[0m\u001b[0mFile\u001b[0m\u001b[0;34m(\u001b[0m\u001b[0mfilepath\u001b[0m\u001b[0;34m,\u001b[0m \u001b[0mmode\u001b[0m\u001b[0;34m)\u001b[0m \u001b[0;32mas\u001b[0m \u001b[0mf\u001b[0m\u001b[0;34m:\u001b[0m\u001b[0;34m\u001b[0m\u001b[0;34m\u001b[0m\u001b[0m\n\u001b[0m\u001b[1;32m     94\u001b[0m         \u001b[0;32mif\u001b[0m \u001b[0;34m\"X\"\u001b[0m \u001b[0;32min\u001b[0m \u001b[0mas_dense\u001b[0m \u001b[0;32mand\u001b[0m \u001b[0misinstance\u001b[0m\u001b[0;34m(\u001b[0m\u001b[0madata\u001b[0m\u001b[0;34m.\u001b[0m\u001b[0mX\u001b[0m\u001b[0;34m,\u001b[0m \u001b[0;34m(\u001b[0m\u001b[0msparse\u001b[0m\u001b[0;34m.\u001b[0m\u001b[0mspmatrix\u001b[0m\u001b[0;34m,\u001b[0m \u001b[0mSparseDataset\u001b[0m\u001b[0;34m)\u001b[0m\u001b[0;34m)\u001b[0m\u001b[0;34m:\u001b[0m\u001b[0;34m\u001b[0m\u001b[0;34m\u001b[0m\u001b[0m\n\u001b[1;32m     95\u001b[0m             \u001b[0mwrite_sparse_as_dense\u001b[0m\u001b[0;34m(\u001b[0m\u001b[0mf\u001b[0m\u001b[0;34m,\u001b[0m \u001b[0;34m\"X\"\u001b[0m\u001b[0;34m,\u001b[0m \u001b[0madata\u001b[0m\u001b[0;34m.\u001b[0m\u001b[0mX\u001b[0m\u001b[0;34m,\u001b[0m \u001b[0mdataset_kwargs\u001b[0m\u001b[0;34m=\u001b[0m\u001b[0mdataset_kwargs\u001b[0m\u001b[0;34m)\u001b[0m\u001b[0;34m\u001b[0m\u001b[0;34m\u001b[0m\u001b[0m\n",
      "\u001b[0;32m/usr/local/lib/python3.7/dist-packages/h5py/_hl/files.py\u001b[0m in \u001b[0;36m__init__\u001b[0;34m(self, name, mode, driver, libver, userblock_size, swmr, rdcc_nslots, rdcc_nbytes, rdcc_w0, track_order, fs_strategy, fs_persist, fs_threshold, **kwds)\u001b[0m\n\u001b[1;32m    425\u001b[0m                                fapl, fcpl=make_fcpl(track_order=track_order, fs_strategy=fs_strategy,\n\u001b[1;32m    426\u001b[0m                                fs_persist=fs_persist, fs_threshold=fs_threshold),\n\u001b[0;32m--> 427\u001b[0;31m                                swmr=swmr)\n\u001b[0m\u001b[1;32m    428\u001b[0m \u001b[0;34m\u001b[0m\u001b[0m\n\u001b[1;32m    429\u001b[0m             \u001b[0;32mif\u001b[0m \u001b[0misinstance\u001b[0m\u001b[0;34m(\u001b[0m\u001b[0mlibver\u001b[0m\u001b[0;34m,\u001b[0m \u001b[0mtuple\u001b[0m\u001b[0;34m)\u001b[0m\u001b[0;34m:\u001b[0m\u001b[0;34m\u001b[0m\u001b[0;34m\u001b[0m\u001b[0m\n",
      "\u001b[0;32m/usr/local/lib/python3.7/dist-packages/h5py/_hl/files.py\u001b[0m in \u001b[0;36mmake_fid\u001b[0;34m(name, mode, userblock_size, fapl, fcpl, swmr)\u001b[0m\n\u001b[1;32m    194\u001b[0m         \u001b[0mfid\u001b[0m \u001b[0;34m=\u001b[0m \u001b[0mh5f\u001b[0m\u001b[0;34m.\u001b[0m\u001b[0mcreate\u001b[0m\u001b[0;34m(\u001b[0m\u001b[0mname\u001b[0m\u001b[0;34m,\u001b[0m \u001b[0mh5f\u001b[0m\u001b[0;34m.\u001b[0m\u001b[0mACC_EXCL\u001b[0m\u001b[0;34m,\u001b[0m \u001b[0mfapl\u001b[0m\u001b[0;34m=\u001b[0m\u001b[0mfapl\u001b[0m\u001b[0;34m,\u001b[0m \u001b[0mfcpl\u001b[0m\u001b[0;34m=\u001b[0m\u001b[0mfcpl\u001b[0m\u001b[0;34m)\u001b[0m\u001b[0;34m\u001b[0m\u001b[0;34m\u001b[0m\u001b[0m\n\u001b[1;32m    195\u001b[0m     \u001b[0;32melif\u001b[0m \u001b[0mmode\u001b[0m \u001b[0;34m==\u001b[0m \u001b[0;34m'w'\u001b[0m\u001b[0;34m:\u001b[0m\u001b[0;34m\u001b[0m\u001b[0;34m\u001b[0m\u001b[0m\n\u001b[0;32m--> 196\u001b[0;31m         \u001b[0mfid\u001b[0m \u001b[0;34m=\u001b[0m \u001b[0mh5f\u001b[0m\u001b[0;34m.\u001b[0m\u001b[0mcreate\u001b[0m\u001b[0;34m(\u001b[0m\u001b[0mname\u001b[0m\u001b[0;34m,\u001b[0m \u001b[0mh5f\u001b[0m\u001b[0;34m.\u001b[0m\u001b[0mACC_TRUNC\u001b[0m\u001b[0;34m,\u001b[0m \u001b[0mfapl\u001b[0m\u001b[0;34m=\u001b[0m\u001b[0mfapl\u001b[0m\u001b[0;34m,\u001b[0m \u001b[0mfcpl\u001b[0m\u001b[0;34m=\u001b[0m\u001b[0mfcpl\u001b[0m\u001b[0;34m)\u001b[0m\u001b[0;34m\u001b[0m\u001b[0;34m\u001b[0m\u001b[0m\n\u001b[0m\u001b[1;32m    197\u001b[0m     \u001b[0;32melif\u001b[0m \u001b[0mmode\u001b[0m \u001b[0;34m==\u001b[0m \u001b[0;34m'a'\u001b[0m\u001b[0;34m:\u001b[0m\u001b[0;34m\u001b[0m\u001b[0;34m\u001b[0m\u001b[0m\n\u001b[1;32m    198\u001b[0m         \u001b[0;31m# Open in append mode (read/write).\u001b[0m\u001b[0;34m\u001b[0m\u001b[0;34m\u001b[0m\u001b[0;34m\u001b[0m\u001b[0m\n",
      "\u001b[0;32mh5py/_objects.pyx\u001b[0m in \u001b[0;36mh5py._objects.with_phil.wrapper\u001b[0;34m()\u001b[0m\n",
      "\u001b[0;32mh5py/_objects.pyx\u001b[0m in \u001b[0;36mh5py._objects.with_phil.wrapper\u001b[0;34m()\u001b[0m\n",
      "\u001b[0;32mh5py/h5f.pyx\u001b[0m in \u001b[0;36mh5py.h5f.create\u001b[0;34m()\u001b[0m\n",
      "\u001b[0;31mOSError\u001b[0m: Unable to create file (unable to open file: name = '/gdrive/My Drive/scicar_data.h5ad', errno = 2, error message = 'No such file or directory', flags = 13, o_flags = 242)"
     ]
    }
   ],
   "source": [
    "scicar_data.write_h5ad(\"/gdrive/My Drive/scicar_data.h5ad\")"
   ]
  },
  {
   "cell_type": "markdown",
   "metadata": {
    "id": "Zbeeakc1yFqN"
   },
   "source": [
    "# **MNN**"
   ]
  },
  {
   "cell_type": "code",
   "execution_count": null,
   "metadata": {
    "colab": {
     "base_uri": "https://localhost:8080/"
    },
    "id": "w8kpcRG_py_f",
    "outputId": "a31c1e0d-41ec-45e6-91cf-c50bd3f986ba"
   },
   "outputs": [
    {
     "name": "stdout",
     "output_type": "stream",
     "text": [
      "/gdrive/My Drive/mnn.R\n"
     ]
    }
   ],
   "source": [
    "#convert R function to a collable py function\n",
    "_mnn = r_function(\"/gdrive/My Drive/mnn.R\")\n",
    "#mnn with log_cpm preprocessing\n",
    "\n",
    "def mnn_log_cpm(adata):\n",
    "    log_cpm(adata)\n",
    "    log_cpm(adata, obsm=\"mode2\", obs=\"mode2_obs\", var=\"mode2_var\")\n",
    "    return _mnn(adata)\n",
    "  \n",
    "#mnn with log_scran preprocessing\n",
    "def mnn_log_scran_pooling(adata):\n",
    "    log_scran_pooling(adata)\n",
    "    log_cpm(adta, obsm=\"mode2\", obs=\"mode2_obs\", var=\"mode2_var\")\n",
    "    return _mnn(adata)"
   ]
  },
  {
   "cell_type": "code",
   "execution_count": 31,
   "metadata": {
    "colab": {
     "base_uri": "https://localhost:8080/",
     "height": 1000
    },
    "id": "hqFKBaK0wg7u",
    "outputId": "1691e9e0-4633-4051-a4bf-9cebba993d18"
   },
   "outputs": [
    {
     "ename": "NameError",
     "evalue": "name 'mnn_log_scran_pooling' is not defined",
     "output_type": "error",
     "traceback": [
      "\u001b[0;31m---------------------------------------------------------------------------\u001b[0m",
      "\u001b[0;31mNameError\u001b[0m                                 Traceback (most recent call last)",
      "\u001b[0;32m<ipython-input-31-401b1735f7c8>\u001b[0m in \u001b[0;36m<module>\u001b[0;34m\u001b[0m\n\u001b[1;32m      1\u001b[0m \u001b[0mtest_scicar_data\u001b[0m \u001b[0;34m=\u001b[0m \u001b[0msubset_joint_data\u001b[0m\u001b[0;34m(\u001b[0m\u001b[0mscicar_data\u001b[0m\u001b[0;34m)\u001b[0m\u001b[0;34m\u001b[0m\u001b[0;34m\u001b[0m\u001b[0m\n\u001b[0;32m----> 2\u001b[0;31m \u001b[0mtest_scicar_data\u001b[0m \u001b[0;34m=\u001b[0m \u001b[0mmnn_log_scran_pooling\u001b[0m\u001b[0;34m(\u001b[0m\u001b[0mtest_scicar_data\u001b[0m\u001b[0;34m)\u001b[0m\u001b[0;34m\u001b[0m\u001b[0;34m\u001b[0m\u001b[0m\n\u001b[0m\u001b[1;32m      3\u001b[0m \u001b[0;31m#knn_auc(test_scicar_data)\u001b[0m\u001b[0;34m\u001b[0m\u001b[0;34m\u001b[0m\u001b[0;34m\u001b[0m\u001b[0m\n",
      "\u001b[0;31mNameError\u001b[0m: name 'mnn_log_scran_pooling' is not defined"
     ]
    }
   ],
   "source": [
    "%%capture\n",
    "test_scicar_data = subset_joint_data(scicar_data)\n",
    "test_scicar_data = mnn_log_scran_pooling(test_scicar_data)\n",
    "#knn_auc(test_scicar_data)"
   ]
  },
  {
   "cell_type": "markdown",
   "metadata": {
    "id": "wBcfBRk4gSCz"
   },
   "source": [
    "# **alignment score for procrustes**"
   ]
  },
  {
   "cell_type": "code",
   "execution_count": 9,
   "metadata": {
    "id": "ILhMo2ljgDpK"
   },
   "outputs": [],
   "source": [
    "def plot_procrustes_knn(params_range, train=True):\n",
    "    test_scicar_data = load_raw.subset_joint_data(scicar_data, n_cells = 1500)\n",
    "    train_data, test_data = load_raw.train_test_split(sub_scicar_data, train_prop = 0.5)\n",
    "    knn_scores = [0.0] * len(params_range)\n",
    "    for i, n_svd in enumerate(params_range):\n",
    "        if train:\n",
    "            procrustes(train_data, n_svd = n_svd)\n",
    "            knn_score = metrics.knn_auc(train_data, n_svd = n_svd)\n",
    "        else:\n",
    "            procrustes_split(train_data, test_data, n_svd = n_svd)\n",
    "            knn_score = metrics.knn_auc(test_data, n_svd = n_svd)\n",
    "        knn_scores[i] = knn_score\n",
    "    plt.xlabel(\"n_svd\")\n",
    "    plt.ylabel(\"knn score\")\n",
    "    plt.plot(params_range, knn_scores)\n",
    "    plt.show()"
   ]
  },
  {
   "cell_type": "code",
   "execution_count": null,
   "metadata": {
    "id": "CXt4Unlnmtt3"
   },
   "outputs": [
    {
     "name": "stdout",
     "output_type": "stream",
     "text": [
      "0.3497140961366616\n",
      "0.6901419629584501\n",
      "0.4205210710964249\n",
      "0.6863575607344916\n"
     ]
    },
    {
     "data": {
      "image/png": "[encoded data removed]",
      "text/plain": [
       "<Figure size 640x480 with 1 Axes>"
      ]
     },
     "metadata": {
      "needs_background": "light"
     },
     "output_type": "display_data"
    }
   ],
   "source": [
    "sub_scicar_data = load_raw.subset_joint_data(scicar_data, n_cells = 1500)\n",
    "train_data, test_data = load_raw.train_test_split(sub_scicar_data, train_prop = 0.5)\n",
    "procrustes_split(train_data, test_data, n_svd = 150)\n",
    "procrustes(train_data, n_svd = 150)\n",
    "print(metrics.knn_auc(test_data, n_svd=150))\n",
    "print(metrics.mse(test_data))\n",
    "print(metrics.knn_auc(train_data, n_svd=150))\n",
    "print(metrics.mse(test_data))\n",
    "metrics.plot_multimodal_umap(train_data, num_points=100, connect_modalities=True)\n",
    "metrics.plot_multimodal_umap(test_data, num_points=100, connect_modalities=True)"
   ]
  },
  {
   "cell_type": "code",
   "execution_count": 17,
   "metadata": {
    "colab": {
     "base_uri": "https://localhost:8080/",
     "height": 280
    },
    "id": "M9tHSmujkw7P",
    "outputId": "0249cc8b-588f-47aa-db22-8a34fc5d1ec9"
   },
   "outputs": [
    {
     "data": {
      "image/png": "[encoded data removed]",
      "text/plain": [
       "<Figure size 432x288 with 1 Axes>"
      ]
     },
     "metadata": {
      "needs_background": "light"
     },
     "output_type": "display_data"
    },
    {
     "data": {
      "image/png": "[encoded data removed]",
      "text/plain": [
       "<Figure size 432x288 with 1 Axes>"
      ]
     },
     "metadata": {
      "needs_background": "light"
     },
     "output_type": "display_data"
    }
   ],
   "source": [
    "plot_procrustes_knn(range(50, 600))\n",
    "plot_procrustes_knn(range(50, 600), train=False)"
   ]
  },
  {
   "cell_type": "markdown",
   "metadata": {
    "id": "0QQEAoJSryxO"
   },
   "source": [
    "# **alignment score for harmonic alignment**"
   ]
  },
  {
   "cell_type": "code",
   "execution_count": 37,
   "metadata": {
    "colab": {
     "base_uri": "https://localhost:8080/",
     "height": 198
    },
    "id": "uWyL0JUir8Pv",
    "outputId": "3881d8e1-6b93-4518-b1f1-7dc4da3705b1"
   },
   "outputs": [
    {
     "name": "stderr",
     "output_type": "stream",
     "text": [
      "/home/jiayueg/.local/lib/python3.8/site-packages/graphtools/graphs.py:287: RuntimeWarning: Detected zero distance between 19 pairs of samples. Consider removing duplicates to avoid errors in downstream processing.\n",
      "  warnings.warn(\n",
      "/home/jiayueg/.local/lib/python3.8/site-packages/graphtools/graphs.py:451: RuntimeWarning: overflow encountered in power\n",
      "  K.data = np.exp(-1 * np.power(K.data, self.decay))\n"
     ]
    },
    {
     "name": "stdout",
     "output_type": "stream",
     "text": [
      "0.09570764011597999\n",
      "1.0004838277657804\n"
     ]
    }
   ],
   "source": [
    "harmonic_alignment_sqrt_cpm(test_scicar_data)\n",
    "print(knn_auc(test_scicar_data))\n",
    "print(mse(test_scicar_data))"
   ]
  },
  {
   "cell_type": "markdown",
   "metadata": {
    "id": "wGRVgf6RFKwV"
   },
   "source": [
    "# **alignment score for scot**"
   ]
  },
  {
   "cell_type": "code",
   "execution_count": 41,
   "metadata": {
    "colab": {
     "base_uri": "https://localhost:8080/"
    },
    "id": "vWhEnsS7Fai1",
    "outputId": "4b017b24-3827-4817-d46f-c50769d3abeb"
   },
   "outputs": [
    {
     "name": "stdout",
     "output_type": "stream",
     "text": [
      "It.  |Err         \n",
      "-------------------\n",
      "    0|2.200180e-03|\n",
      "   10|2.387136e-03|\n",
      "   20|2.615103e-03|\n",
      "   30|1.528235e-03|\n",
      "   40|1.051872e-03|\n",
      "   50|6.949927e-04|\n",
      "   60|4.957172e-04|\n",
      "   70|4.674470e-04|\n",
      "   80|2.953773e-04|\n",
      "   90|2.374930e-04|\n",
      "  100|1.859278e-04|\n",
      "  110|1.840104e-04|\n",
      "  120|2.012579e-04|\n",
      "  130|2.238157e-04|\n",
      "  140|2.893454e-04|\n",
      "  150|2.998587e-04|\n",
      "  160|2.197025e-04|\n",
      "  170|1.672223e-04|\n",
      "  180|1.639067e-04|\n",
      "  190|1.482156e-04|\n",
      "It.  |Err         \n",
      "-------------------\n",
      "  200|7.052841e-05|\n",
      "  210|4.591526e-05|\n",
      "  220|4.460609e-05|\n",
      "  230|5.023429e-05|\n",
      "  240|5.115160e-05|\n",
      "  250|4.296058e-05|\n",
      "  260|3.737661e-05|\n",
      "  270|3.282929e-05|\n",
      "  280|2.782190e-05|\n",
      "  290|2.385722e-05|\n",
      "  300|2.231126e-05|\n",
      "  310|2.407502e-05|\n",
      "  320|3.090345e-05|\n",
      "  330|4.660831e-05|\n",
      "  340|7.257048e-05|\n",
      "  350|9.850706e-05|\n",
      "  360|1.097518e-04|\n",
      "  370|3.993829e-05|\n",
      "  380|2.194712e-05|\n",
      "  390|1.426638e-05|\n",
      "It.  |Err         \n",
      "-------------------\n",
      "  400|9.812246e-06|\n",
      "  410|7.076451e-06|\n",
      "  420|5.326748e-06|\n",
      "  430|4.160802e-06|\n",
      "  440|3.359341e-06|\n",
      "  450|2.799976e-06|\n",
      "  460|2.410538e-06|\n",
      "  470|2.145341e-06|\n",
      "  480|1.973356e-06|\n",
      "  490|1.872446e-06|\n",
      "  500|1.826668e-06|\n",
      "  510|1.824971e-06|\n",
      "  520|1.860420e-06|\n",
      "  530|1.929608e-06|\n",
      "  540|2.032225e-06|\n",
      "  550|2.170829e-06|\n",
      "  560|2.350911e-06|\n",
      "  570|2.581325e-06|\n",
      "  580|2.875187e-06|\n",
      "  590|3.251418e-06|\n",
      "It.  |Err         \n",
      "-------------------\n",
      "  600|3.737235e-06|\n",
      "  610|4.372062e-06|\n",
      "  620|5.213569e-06|\n",
      "  630|6.346719e-06|\n",
      "  640|7.896264e-06|\n",
      "  650|1.003994e-05|\n",
      "  660|1.300665e-05|\n",
      "  670|1.700230e-05|\n",
      "  680|2.191433e-05|\n",
      "  690|2.666929e-05|\n",
      "  700|2.913660e-05|\n",
      "  710|2.889979e-05|\n",
      "  720|3.047844e-05|\n",
      "  730|4.788435e-05|\n",
      "  740|1.723671e-04|\n",
      "  750|1.036206e-04|\n",
      "  760|1.616948e-04|\n",
      "  770|1.148584e-04|\n",
      "  780|1.004532e-04|\n",
      "  790|1.034775e-04|\n",
      "It.  |Err         \n",
      "-------------------\n",
      "  800|6.169366e-05|\n",
      "  810|2.911150e-05|\n",
      "  820|1.857329e-05|\n",
      "  830|1.530800e-05|\n",
      "  840|1.351521e-05|\n",
      "  850|1.210812e-05|\n",
      "  860|1.100185e-05|\n",
      "  870|1.024532e-05|\n",
      "  880|9.898633e-06|\n",
      "  890|1.008559e-05|\n",
      "  900|1.112313e-05|\n",
      "  910|1.386969e-05|\n",
      "  920|2.095100e-05|\n",
      "  930|4.185905e-05|\n",
      "  940|1.012562e-04|\n",
      "  950|1.394092e-04|\n",
      "  960|9.536202e-05|\n",
      "  970|9.231560e-05|\n",
      "  980|1.604105e-04|\n",
      "  990|1.077921e-04|\n",
      "0.19636071881510325\n",
      "0.9799492245001222\n"
     ]
    }
   ],
   "source": [
    "test_scicar_data = subset_joint_data(scicar_data)\n",
    "scot_sqrt_cpm_balanced(test_scicar_data)\n",
    "print(knn_auc(test_scicar_data))\n",
    "print(mse(test_scicar_data))"
   ]
  },
  {
   "cell_type": "code",
   "execution_count": 42,
   "metadata": {},
   "outputs": [
    {
     "name": "stdout",
     "output_type": "stream",
     "text": [
      "It.  |Err         \n",
      "-------------------\n",
      "    0|4.355200e-04|\n",
      "   10|1.522882e-05|\n",
      "   20|6.121274e-06|\n",
      "   30|3.386841e-06|\n",
      "   40|1.255806e-06|\n",
      "   50|3.897142e-07|\n",
      "   60|1.144282e-07|\n",
      "   70|3.306420e-08|\n",
      "   80|9.510051e-09|\n",
      "   90|2.731709e-09|\n",
      "  100|7.843724e-10|\n",
      "0.16206478180055905\n",
      "0.5315781392374076\n"
     ]
    }
   ],
   "source": [
    "scot_sqrt_cpm_balanced(scicar_data)\n",
    "print(knn_auc(scicar_data))\n",
    "print(mse(scicar_data))"
   ]
  }
 ],
 "metadata": {
  "accelerator": "TPU",
  "colab": {
   "collapsed_sections": [],
   "name": "baseline_methods.ipynb",
   "provenance": []
  },
  "kernelspec": {
   "display_name": "Python 3",
   "language": "python",
   "name": "python3"
  },
  "language_info": {
   "codemirror_mode": {
    "name": "ipython",
    "version": 3
   },
   "file_extension": ".py",
   "mimetype": "text/x-python",
   "name": "python",
   "nbconvert_exporter": "python",
   "pygments_lexer": "ipython3",
   "version": "3.8.5"
  }
 },
 "nbformat": 4,
 "nbformat_minor": 1
}
